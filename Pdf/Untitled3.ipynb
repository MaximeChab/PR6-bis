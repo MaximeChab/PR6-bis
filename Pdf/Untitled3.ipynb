{
 "cells": [
  {
   "cell_type": "code",
   "execution_count": 3,
   "id": "38708271-c0b1-4d42-80ec-39473c335c18",
   "metadata": {},
   "outputs": [],
   "source": [
    "from pyspark.sql import SparkSession"
   ]
  },
  {
   "cell_type": "code",
   "execution_count": 5,
   "id": "1b652dd7-fd33-46ec-94c0-3d760b89f01c",
   "metadata": {},
   "outputs": [],
   "source": [
    "from pyspark.sql.functions import *"
   ]
  },
  {
   "cell_type": "code",
   "execution_count": 7,
   "id": "7eb85893-dd39-40f7-9138-b1fdc10c6284",
   "metadata": {},
   "outputs": [
    {
     "name": "stderr",
     "output_type": "stream",
     "text": [
      "24/10/02 15:18:02 WARN Utils: Your hostname, MacBook-Air-de-Elvis.local resolves to a loopback address: 127.0.0.1; using 172.17.112.30 instead (on interface en0)\n",
      "24/10/02 15:18:02 WARN Utils: Set SPARK_LOCAL_IP if you need to bind to another address\n",
      "Setting default log level to \"WARN\".\n",
      "To adjust logging level use sc.setLogLevel(newLevel). For SparkR, use setLogLevel(newLevel).\n",
      "24/10/02 15:18:02 WARN NativeCodeLoader: Unable to load native-hadoop library for your platform... using builtin-java classes where applicable\n",
      "24/10/02 15:18:03 WARN Utils: Service 'SparkUI' could not bind on port 4040. Attempting port 4041.\n"
     ]
    }
   ],
   "source": [
    "spark = SparkSession.builder.appName(\"PySparkJupyter\").getOrCreate()"
   ]
  },
  {
   "cell_type": "code",
   "execution_count": 7,
   "id": "6514fcf3-97d8-4ade-bcc1-b81aa4d8200e",
   "metadata": {},
   "outputs": [],
   "source": [
    "df = spark.read.csv('./Desktop/players_22.csv',header=True,escape=\"\\\"\")"
   ]
  },
  {
   "cell_type": "code",
   "execution_count": 9,
   "id": "5d00a910-35f0-4293-aa56-06e60773da2c",
   "metadata": {},
   "outputs": [],
   "source": [
    "df15 = spark.read.csv('./Desktop/players_15.csv',header=True,escape=\"\\\"\")"
   ]
  },
  {
   "cell_type": "code",
   "execution_count": 9,
   "id": "d679eda1-641f-42a9-bb80-20da23e68d31",
   "metadata": {},
   "outputs": [],
   "source": [
    "df17 = spark.read.option(\"inferSchema\",True).csv('./Desktop/q7_employee_salary_data.csv',header=True,escape=\"\\\"\")"
   ]
  },
  {
   "cell_type": "code",
   "execution_count": 19,
   "id": "158d1b82-6774-44be-8d36-33a628f8656d",
   "metadata": {},
   "outputs": [
    {
     "name": "stdout",
     "output_type": "stream",
     "text": [
      "+-----------+----------+------+\n",
      "|employee_id|department|salary|\n",
      "+-----------+----------+------+\n",
      "|          1|Operations|  3912|\n",
      "|          2|     Sales|  4753|\n",
      "|          3|        HR|  3914|\n",
      "|          4|        HR|  6016|\n",
      "|          5|     Sales|  8043|\n",
      "|          6|Operations|  7467|\n",
      "|          7|     Sales|  7337|\n",
      "|          8| Marketing|  3760|\n",
      "|          9|     Sales|  3267|\n",
      "|         10|        HR|  3952|\n",
      "|         11|   Finance|  9431|\n",
      "|         12|     Sales|  7097|\n",
      "|         13|        HR|  5932|\n",
      "|         14|Operations|  7464|\n",
      "|         15| Marketing|  5305|\n",
      "|         16| Marketing|  5778|\n",
      "|         17|     Sales|  3807|\n",
      "|         18|Operations|  6462|\n",
      "|         19|        IT|  6276|\n",
      "|         20|        HR|  3881|\n",
      "+-----------+----------+------+\n",
      "only showing top 20 rows\n",
      "\n"
     ]
    }
   ],
   "source": [
    "df17.show()"
   ]
  },
  {
   "cell_type": "code",
   "execution_count": 25,
   "id": "5e39714c-e2ff-42ee-9dae-77f4ed8fb868",
   "metadata": {},
   "outputs": [
    {
     "ename": "AnalysisException",
     "evalue": "[MISSING_AGGREGATION] The non-aggregating expression \"employee_id\" is based on columns which are not participating in the GROUP BY clause.\nAdd the columns or the expression to the GROUP BY, aggregate the expression, or use \"any_value(employee_id)\" if you do not care which of the values within a group is returned.;\nAggregate [department#18], [employee_id#17, department#18, salary#19]\n+- Filter (rang#56 > 2)\n   +- SubqueryAlias __auto_generated_subquery_name\n      +- Project [employee_id#17, department#18, salary#19, rang#56]\n         +- Project [employee_id#17, department#18, salary#19, rang#56, rang#56]\n            +- Window [rank(salary#19) windowspecdefinition(department#18, salary#19 DESC NULLS LAST, specifiedwindowframe(RowFrame, unboundedpreceding$(), currentrow$())) AS rang#56], [department#18], [salary#19 DESC NULLS LAST]\n               +- Project [employee_id#17, department#18, salary#19]\n                  +- SubqueryAlias dataframe\n                     +- View (`dataframe`, [employee_id#17,department#18,salary#19])\n                        +- Relation [employee_id#17,department#18,salary#19] csv\n",
     "output_type": "error",
     "traceback": [
      "\u001b[0;31m---------------------------------------------------------------------------\u001b[0m",
      "\u001b[0;31mAnalysisException\u001b[0m                         Traceback (most recent call last)",
      "Cell \u001b[0;32mIn[25], line 1\u001b[0m\n\u001b[0;32m----> 1\u001b[0m spark\u001b[38;5;241m.\u001b[39msql(\u001b[38;5;124m\"\u001b[39m\u001b[38;5;124mselect employee_id,department,salary from (select *,RANK() OVER(PARTITION BY department order by salary desc) as rang from dataframe) where rang > 2 group by department\u001b[39m\u001b[38;5;124m\"\u001b[39m)\u001b[38;5;241m.\u001b[39mshow()\n",
      "File \u001b[0;32m/opt/anaconda3/lib/python3.11/site-packages/pyspark/sql/session.py:1631\u001b[0m, in \u001b[0;36mSparkSession.sql\u001b[0;34m(self, sqlQuery, args, **kwargs)\u001b[0m\n\u001b[1;32m   1627\u001b[0m         \u001b[38;5;28;01massert\u001b[39;00m \u001b[38;5;28mself\u001b[39m\u001b[38;5;241m.\u001b[39m_jvm \u001b[38;5;129;01mis\u001b[39;00m \u001b[38;5;129;01mnot\u001b[39;00m \u001b[38;5;28;01mNone\u001b[39;00m\n\u001b[1;32m   1628\u001b[0m         litArgs \u001b[38;5;241m=\u001b[39m \u001b[38;5;28mself\u001b[39m\u001b[38;5;241m.\u001b[39m_jvm\u001b[38;5;241m.\u001b[39mPythonUtils\u001b[38;5;241m.\u001b[39mtoArray(\n\u001b[1;32m   1629\u001b[0m             [_to_java_column(lit(v)) \u001b[38;5;28;01mfor\u001b[39;00m v \u001b[38;5;129;01min\u001b[39;00m (args \u001b[38;5;129;01mor\u001b[39;00m [])]\n\u001b[1;32m   1630\u001b[0m         )\n\u001b[0;32m-> 1631\u001b[0m     \u001b[38;5;28;01mreturn\u001b[39;00m DataFrame(\u001b[38;5;28mself\u001b[39m\u001b[38;5;241m.\u001b[39m_jsparkSession\u001b[38;5;241m.\u001b[39msql(sqlQuery, litArgs), \u001b[38;5;28mself\u001b[39m)\n\u001b[1;32m   1632\u001b[0m \u001b[38;5;28;01mfinally\u001b[39;00m:\n\u001b[1;32m   1633\u001b[0m     \u001b[38;5;28;01mif\u001b[39;00m \u001b[38;5;28mlen\u001b[39m(kwargs) \u001b[38;5;241m>\u001b[39m \u001b[38;5;241m0\u001b[39m:\n",
      "File \u001b[0;32m/opt/anaconda3/lib/python3.11/site-packages/py4j/java_gateway.py:1322\u001b[0m, in \u001b[0;36mJavaMember.__call__\u001b[0;34m(self, *args)\u001b[0m\n\u001b[1;32m   1316\u001b[0m command \u001b[38;5;241m=\u001b[39m proto\u001b[38;5;241m.\u001b[39mCALL_COMMAND_NAME \u001b[38;5;241m+\u001b[39m\\\n\u001b[1;32m   1317\u001b[0m     \u001b[38;5;28mself\u001b[39m\u001b[38;5;241m.\u001b[39mcommand_header \u001b[38;5;241m+\u001b[39m\\\n\u001b[1;32m   1318\u001b[0m     args_command \u001b[38;5;241m+\u001b[39m\\\n\u001b[1;32m   1319\u001b[0m     proto\u001b[38;5;241m.\u001b[39mEND_COMMAND_PART\n\u001b[1;32m   1321\u001b[0m answer \u001b[38;5;241m=\u001b[39m \u001b[38;5;28mself\u001b[39m\u001b[38;5;241m.\u001b[39mgateway_client\u001b[38;5;241m.\u001b[39msend_command(command)\n\u001b[0;32m-> 1322\u001b[0m return_value \u001b[38;5;241m=\u001b[39m get_return_value(\n\u001b[1;32m   1323\u001b[0m     answer, \u001b[38;5;28mself\u001b[39m\u001b[38;5;241m.\u001b[39mgateway_client, \u001b[38;5;28mself\u001b[39m\u001b[38;5;241m.\u001b[39mtarget_id, \u001b[38;5;28mself\u001b[39m\u001b[38;5;241m.\u001b[39mname)\n\u001b[1;32m   1325\u001b[0m \u001b[38;5;28;01mfor\u001b[39;00m temp_arg \u001b[38;5;129;01min\u001b[39;00m temp_args:\n\u001b[1;32m   1326\u001b[0m     \u001b[38;5;28;01mif\u001b[39;00m \u001b[38;5;28mhasattr\u001b[39m(temp_arg, \u001b[38;5;124m\"\u001b[39m\u001b[38;5;124m_detach\u001b[39m\u001b[38;5;124m\"\u001b[39m):\n",
      "File \u001b[0;32m/opt/anaconda3/lib/python3.11/site-packages/pyspark/errors/exceptions/captured.py:185\u001b[0m, in \u001b[0;36mcapture_sql_exception.<locals>.deco\u001b[0;34m(*a, **kw)\u001b[0m\n\u001b[1;32m    181\u001b[0m converted \u001b[38;5;241m=\u001b[39m convert_exception(e\u001b[38;5;241m.\u001b[39mjava_exception)\n\u001b[1;32m    182\u001b[0m \u001b[38;5;28;01mif\u001b[39;00m \u001b[38;5;129;01mnot\u001b[39;00m \u001b[38;5;28misinstance\u001b[39m(converted, UnknownException):\n\u001b[1;32m    183\u001b[0m     \u001b[38;5;66;03m# Hide where the exception came from that shows a non-Pythonic\u001b[39;00m\n\u001b[1;32m    184\u001b[0m     \u001b[38;5;66;03m# JVM exception message.\u001b[39;00m\n\u001b[0;32m--> 185\u001b[0m     \u001b[38;5;28;01mraise\u001b[39;00m converted \u001b[38;5;28;01mfrom\u001b[39;00m \u001b[38;5;28;01mNone\u001b[39;00m\n\u001b[1;32m    186\u001b[0m \u001b[38;5;28;01melse\u001b[39;00m:\n\u001b[1;32m    187\u001b[0m     \u001b[38;5;28;01mraise\u001b[39;00m\n",
      "\u001b[0;31mAnalysisException\u001b[0m: [MISSING_AGGREGATION] The non-aggregating expression \"employee_id\" is based on columns which are not participating in the GROUP BY clause.\nAdd the columns or the expression to the GROUP BY, aggregate the expression, or use \"any_value(employee_id)\" if you do not care which of the values within a group is returned.;\nAggregate [department#18], [employee_id#17, department#18, salary#19]\n+- Filter (rang#56 > 2)\n   +- SubqueryAlias __auto_generated_subquery_name\n      +- Project [employee_id#17, department#18, salary#19, rang#56]\n         +- Project [employee_id#17, department#18, salary#19, rang#56, rang#56]\n            +- Window [rank(salary#19) windowspecdefinition(department#18, salary#19 DESC NULLS LAST, specifiedwindowframe(RowFrame, unboundedpreceding$(), currentrow$())) AS rang#56], [department#18], [salary#19 DESC NULLS LAST]\n               +- Project [employee_id#17, department#18, salary#19]\n                  +- SubqueryAlias dataframe\n                     +- View (`dataframe`, [employee_id#17,department#18,salary#19])\n                        +- Relation [employee_id#17,department#18,salary#19] csv\n"
     ]
    }
   ],
   "source": [
    "spark.sql(\"select employee_id,department,salary as nb from (select *,RANK() OVER(PARTITION BY department order by salary desc) as rang from dataframe) where rang > 2 group by department order by desc department,salary\").show()"
   ]
  },
  {
   "cell_type": "code",
   "execution_count": 15,
   "id": "cc279873-8c73-4a19-a450-09d1dedcfd71",
   "metadata": {},
   "outputs": [
    {
     "name": "stdout",
     "output_type": "stream",
     "text": [
      "+-----------------+\n",
      "|       short_name|\n",
      "+-----------------+\n",
      "|         L. Messi|\n",
      "|   R. Lewandowski|\n",
      "|Cristiano Ronaldo|\n",
      "|        Neymar Jr|\n",
      "|     K. De Bruyne|\n",
      "|         J. Oblak|\n",
      "|        K. Mbappé|\n",
      "|         M. Neuer|\n",
      "|    M. ter Stegen|\n",
      "|          H. Kane|\n",
      "|         N. Kanté|\n",
      "|       K. Benzema|\n",
      "|      T. Courtois|\n",
      "|           H. Son|\n",
      "|         Casemiro|\n",
      "|      V. van Dijk|\n",
      "|          S. Mané|\n",
      "|         M. Salah|\n",
      "|          Ederson|\n",
      "|       J. Kimmich|\n",
      "+-----------------+\n",
      "only showing top 20 rows\n",
      "\n"
     ]
    }
   ],
   "source": [
    "df.select('short_name').show()"
   ]
  },
  {
   "cell_type": "code",
   "execution_count": 9,
   "id": "eaa547c1-8af1-47fb-b29d-4ed6788e68c2",
   "metadata": {},
   "outputs": [
    {
     "name": "stdout",
     "output_type": "stream",
     "text": [
      "+-----------------+-----------+\n",
      "|       short_name|  value_eur|\n",
      "+-----------------+-----------+\n",
      "|         L. Messi| 78000000.0|\n",
      "|   R. Lewandowski|119500000.0|\n",
      "|Cristiano Ronaldo| 45000000.0|\n",
      "|        Neymar Jr|129000000.0|\n",
      "|     K. De Bruyne|125500000.0|\n",
      "|         J. Oblak|112000000.0|\n",
      "|        K. Mbappé|194000000.0|\n",
      "|         M. Neuer| 13500000.0|\n",
      "|    M. ter Stegen| 99000000.0|\n",
      "|          H. Kane|129500000.0|\n",
      "|         N. Kanté|100000000.0|\n",
      "|       K. Benzema| 66000000.0|\n",
      "|      T. Courtois| 85500000.0|\n",
      "|           H. Son|104000000.0|\n",
      "|         Casemiro| 88000000.0|\n",
      "|      V. van Dijk| 86000000.0|\n",
      "|          S. Mané|101000000.0|\n",
      "|         M. Salah|101000000.0|\n",
      "|          Ederson| 94000000.0|\n",
      "|       J. Kimmich|108000000.0|\n",
      "+-----------------+-----------+\n",
      "only showing top 20 rows\n",
      "\n"
     ]
    }
   ],
   "source": [
    "df.select('short_name','value_eur').show()"
   ]
  },
  {
   "cell_type": "code",
   "execution_count": 10,
   "id": "5b66a10c-259d-45c1-9398-8cd550f67d07",
   "metadata": {},
   "outputs": [
    {
     "name": "stdout",
     "output_type": "stream",
     "text": [
      "root\n",
      " |-- sofifa_id: string (nullable = true)\n",
      " |-- player_url: string (nullable = true)\n",
      " |-- short_name: string (nullable = true)\n",
      " |-- long_name: string (nullable = true)\n",
      " |-- player_positions: string (nullable = true)\n",
      " |-- overall: string (nullable = true)\n",
      " |-- potential: string (nullable = true)\n",
      " |-- value_eur: string (nullable = true)\n",
      " |-- wage_eur: string (nullable = true)\n",
      " |-- age: string (nullable = true)\n",
      " |-- dob: string (nullable = true)\n",
      " |-- height_cm: string (nullable = true)\n",
      " |-- weight_kg: string (nullable = true)\n",
      " |-- club_team_id: string (nullable = true)\n",
      " |-- club_name: string (nullable = true)\n",
      " |-- league_name: string (nullable = true)\n",
      " |-- league_level: string (nullable = true)\n",
      " |-- club_position: string (nullable = true)\n",
      " |-- club_jersey_number: string (nullable = true)\n",
      " |-- club_loaned_from: string (nullable = true)\n",
      " |-- club_joined: string (nullable = true)\n",
      " |-- club_contract_valid_until: string (nullable = true)\n",
      " |-- nationality_id: string (nullable = true)\n",
      " |-- nationality_name: string (nullable = true)\n",
      " |-- nation_team_id: string (nullable = true)\n",
      " |-- nation_position: string (nullable = true)\n",
      " |-- nation_jersey_number: string (nullable = true)\n",
      " |-- preferred_foot: string (nullable = true)\n",
      " |-- weak_foot: string (nullable = true)\n",
      " |-- skill_moves: string (nullable = true)\n",
      " |-- international_reputation: string (nullable = true)\n",
      " |-- work_rate: string (nullable = true)\n",
      " |-- body_type: string (nullable = true)\n",
      " |-- real_face: string (nullable = true)\n",
      " |-- release_clause_eur: string (nullable = true)\n",
      " |-- player_tags: string (nullable = true)\n",
      " |-- player_traits: string (nullable = true)\n",
      " |-- pace: string (nullable = true)\n",
      " |-- shooting: string (nullable = true)\n",
      " |-- passing: string (nullable = true)\n",
      " |-- dribbling: string (nullable = true)\n",
      " |-- defending: string (nullable = true)\n",
      " |-- physic: string (nullable = true)\n",
      " |-- attacking_crossing: string (nullable = true)\n",
      " |-- attacking_finishing: string (nullable = true)\n",
      " |-- attacking_heading_accuracy: string (nullable = true)\n",
      " |-- attacking_short_passing: string (nullable = true)\n",
      " |-- attacking_volleys: string (nullable = true)\n",
      " |-- skill_dribbling: string (nullable = true)\n",
      " |-- skill_curve: string (nullable = true)\n",
      " |-- skill_fk_accuracy: string (nullable = true)\n",
      " |-- skill_long_passing: string (nullable = true)\n",
      " |-- skill_ball_control: string (nullable = true)\n",
      " |-- movement_acceleration: string (nullable = true)\n",
      " |-- movement_sprint_speed: string (nullable = true)\n",
      " |-- movement_agility: string (nullable = true)\n",
      " |-- movement_reactions: string (nullable = true)\n",
      " |-- movement_balance: string (nullable = true)\n",
      " |-- power_shot_power: string (nullable = true)\n",
      " |-- power_jumping: string (nullable = true)\n",
      " |-- power_stamina: string (nullable = true)\n",
      " |-- power_strength: string (nullable = true)\n",
      " |-- power_long_shots: string (nullable = true)\n",
      " |-- mentality_aggression: string (nullable = true)\n",
      " |-- mentality_interceptions: string (nullable = true)\n",
      " |-- mentality_positioning: string (nullable = true)\n",
      " |-- mentality_vision: string (nullable = true)\n",
      " |-- mentality_penalties: string (nullable = true)\n",
      " |-- mentality_composure: string (nullable = true)\n",
      " |-- defending_marking_awareness: string (nullable = true)\n",
      " |-- defending_standing_tackle: string (nullable = true)\n",
      " |-- defending_sliding_tackle: string (nullable = true)\n",
      " |-- goalkeeping_diving: string (nullable = true)\n",
      " |-- goalkeeping_handling: string (nullable = true)\n",
      " |-- goalkeeping_kicking: string (nullable = true)\n",
      " |-- goalkeeping_positioning: string (nullable = true)\n",
      " |-- goalkeeping_reflexes: string (nullable = true)\n",
      " |-- goalkeeping_speed: string (nullable = true)\n",
      " |-- ls: string (nullable = true)\n",
      " |-- st: string (nullable = true)\n",
      " |-- rs: string (nullable = true)\n",
      " |-- lw: string (nullable = true)\n",
      " |-- lf: string (nullable = true)\n",
      " |-- cf: string (nullable = true)\n",
      " |-- rf: string (nullable = true)\n",
      " |-- rw: string (nullable = true)\n",
      " |-- lam: string (nullable = true)\n",
      " |-- cam: string (nullable = true)\n",
      " |-- ram: string (nullable = true)\n",
      " |-- lm: string (nullable = true)\n",
      " |-- lcm: string (nullable = true)\n",
      " |-- cm: string (nullable = true)\n",
      " |-- rcm: string (nullable = true)\n",
      " |-- rm: string (nullable = true)\n",
      " |-- lwb: string (nullable = true)\n",
      " |-- ldm: string (nullable = true)\n",
      " |-- cdm: string (nullable = true)\n",
      " |-- rdm: string (nullable = true)\n",
      " |-- rwb: string (nullable = true)\n",
      " |-- lb: string (nullable = true)\n",
      " |-- lcb: string (nullable = true)\n",
      " |-- cb: string (nullable = true)\n",
      " |-- rcb: string (nullable = true)\n",
      " |-- rb: string (nullable = true)\n",
      " |-- gk: string (nullable = true)\n",
      " |-- player_face_url: string (nullable = true)\n",
      " |-- club_logo_url: string (nullable = true)\n",
      " |-- club_flag_url: string (nullable = true)\n",
      " |-- nation_logo_url: string (nullable = true)\n",
      " |-- nation_flag_url: string (nullable = true)\n",
      "\n"
     ]
    }
   ],
   "source": [
    "df.printSchema()"
   ]
  },
  {
   "cell_type": "code",
   "execution_count": 11,
   "id": "fa38388a-0d52-47b6-9deb-2bd1b5c8983e",
   "metadata": {},
   "outputs": [],
   "source": [
    "df = df.withColumn(\"wage_eur\", col(\"wage_eur\").cast(\"double\"))"
   ]
  },
  {
   "cell_type": "code",
   "execution_count": 12,
   "id": "4181bbd4-3a9d-457d-9d9d-ef9a294ef696",
   "metadata": {},
   "outputs": [
    {
     "name": "stdout",
     "output_type": "stream",
     "text": [
      "root\n",
      " |-- sofifa_id: string (nullable = true)\n",
      " |-- player_url: string (nullable = true)\n",
      " |-- short_name: string (nullable = true)\n",
      " |-- long_name: string (nullable = true)\n",
      " |-- player_positions: string (nullable = true)\n",
      " |-- overall: string (nullable = true)\n",
      " |-- potential: string (nullable = true)\n",
      " |-- value_eur: string (nullable = true)\n",
      " |-- wage_eur: double (nullable = true)\n",
      " |-- age: string (nullable = true)\n",
      " |-- dob: string (nullable = true)\n",
      " |-- height_cm: string (nullable = true)\n",
      " |-- weight_kg: string (nullable = true)\n",
      " |-- club_team_id: string (nullable = true)\n",
      " |-- club_name: string (nullable = true)\n",
      " |-- league_name: string (nullable = true)\n",
      " |-- league_level: string (nullable = true)\n",
      " |-- club_position: string (nullable = true)\n",
      " |-- club_jersey_number: string (nullable = true)\n",
      " |-- club_loaned_from: string (nullable = true)\n",
      " |-- club_joined: string (nullable = true)\n",
      " |-- club_contract_valid_until: string (nullable = true)\n",
      " |-- nationality_id: string (nullable = true)\n",
      " |-- nationality_name: string (nullable = true)\n",
      " |-- nation_team_id: string (nullable = true)\n",
      " |-- nation_position: string (nullable = true)\n",
      " |-- nation_jersey_number: string (nullable = true)\n",
      " |-- preferred_foot: string (nullable = true)\n",
      " |-- weak_foot: string (nullable = true)\n",
      " |-- skill_moves: string (nullable = true)\n",
      " |-- international_reputation: string (nullable = true)\n",
      " |-- work_rate: string (nullable = true)\n",
      " |-- body_type: string (nullable = true)\n",
      " |-- real_face: string (nullable = true)\n",
      " |-- release_clause_eur: string (nullable = true)\n",
      " |-- player_tags: string (nullable = true)\n",
      " |-- player_traits: string (nullable = true)\n",
      " |-- pace: string (nullable = true)\n",
      " |-- shooting: string (nullable = true)\n",
      " |-- passing: string (nullable = true)\n",
      " |-- dribbling: string (nullable = true)\n",
      " |-- defending: string (nullable = true)\n",
      " |-- physic: string (nullable = true)\n",
      " |-- attacking_crossing: string (nullable = true)\n",
      " |-- attacking_finishing: string (nullable = true)\n",
      " |-- attacking_heading_accuracy: string (nullable = true)\n",
      " |-- attacking_short_passing: string (nullable = true)\n",
      " |-- attacking_volleys: string (nullable = true)\n",
      " |-- skill_dribbling: string (nullable = true)\n",
      " |-- skill_curve: string (nullable = true)\n",
      " |-- skill_fk_accuracy: string (nullable = true)\n",
      " |-- skill_long_passing: string (nullable = true)\n",
      " |-- skill_ball_control: string (nullable = true)\n",
      " |-- movement_acceleration: string (nullable = true)\n",
      " |-- movement_sprint_speed: string (nullable = true)\n",
      " |-- movement_agility: string (nullable = true)\n",
      " |-- movement_reactions: string (nullable = true)\n",
      " |-- movement_balance: string (nullable = true)\n",
      " |-- power_shot_power: string (nullable = true)\n",
      " |-- power_jumping: string (nullable = true)\n",
      " |-- power_stamina: string (nullable = true)\n",
      " |-- power_strength: string (nullable = true)\n",
      " |-- power_long_shots: string (nullable = true)\n",
      " |-- mentality_aggression: string (nullable = true)\n",
      " |-- mentality_interceptions: string (nullable = true)\n",
      " |-- mentality_positioning: string (nullable = true)\n",
      " |-- mentality_vision: string (nullable = true)\n",
      " |-- mentality_penalties: string (nullable = true)\n",
      " |-- mentality_composure: string (nullable = true)\n",
      " |-- defending_marking_awareness: string (nullable = true)\n",
      " |-- defending_standing_tackle: string (nullable = true)\n",
      " |-- defending_sliding_tackle: string (nullable = true)\n",
      " |-- goalkeeping_diving: string (nullable = true)\n",
      " |-- goalkeeping_handling: string (nullable = true)\n",
      " |-- goalkeeping_kicking: string (nullable = true)\n",
      " |-- goalkeeping_positioning: string (nullable = true)\n",
      " |-- goalkeeping_reflexes: string (nullable = true)\n",
      " |-- goalkeeping_speed: string (nullable = true)\n",
      " |-- ls: string (nullable = true)\n",
      " |-- st: string (nullable = true)\n",
      " |-- rs: string (nullable = true)\n",
      " |-- lw: string (nullable = true)\n",
      " |-- lf: string (nullable = true)\n",
      " |-- cf: string (nullable = true)\n",
      " |-- rf: string (nullable = true)\n",
      " |-- rw: string (nullable = true)\n",
      " |-- lam: string (nullable = true)\n",
      " |-- cam: string (nullable = true)\n",
      " |-- ram: string (nullable = true)\n",
      " |-- lm: string (nullable = true)\n",
      " |-- lcm: string (nullable = true)\n",
      " |-- cm: string (nullable = true)\n",
      " |-- rcm: string (nullable = true)\n",
      " |-- rm: string (nullable = true)\n",
      " |-- lwb: string (nullable = true)\n",
      " |-- ldm: string (nullable = true)\n",
      " |-- cdm: string (nullable = true)\n",
      " |-- rdm: string (nullable = true)\n",
      " |-- rwb: string (nullable = true)\n",
      " |-- lb: string (nullable = true)\n",
      " |-- lcb: string (nullable = true)\n",
      " |-- cb: string (nullable = true)\n",
      " |-- rcb: string (nullable = true)\n",
      " |-- rb: string (nullable = true)\n",
      " |-- gk: string (nullable = true)\n",
      " |-- player_face_url: string (nullable = true)\n",
      " |-- club_logo_url: string (nullable = true)\n",
      " |-- club_flag_url: string (nullable = true)\n",
      " |-- nation_logo_url: string (nullable = true)\n",
      " |-- nation_flag_url: string (nullable = true)\n",
      "\n"
     ]
    }
   ],
   "source": [
    "df.printSchema()"
   ]
  },
  {
   "cell_type": "code",
   "execution_count": 13,
   "id": "6c4c54d4-8664-47b5-b5d4-89f0c987e6fe",
   "metadata": {},
   "outputs": [],
   "source": [
    "df = df.withColumn(\"value_eur\", col(\"value_eur\").cast(\"double\"))"
   ]
  },
  {
   "cell_type": "code",
   "execution_count": 14,
   "id": "5cdf895b-eadb-4a85-a008-a50bc3784330",
   "metadata": {},
   "outputs": [
    {
     "name": "stdout",
     "output_type": "stream",
     "text": [
      "root\n",
      " |-- sofifa_id: string (nullable = true)\n",
      " |-- player_url: string (nullable = true)\n",
      " |-- short_name: string (nullable = true)\n",
      " |-- long_name: string (nullable = true)\n",
      " |-- player_positions: string (nullable = true)\n",
      " |-- overall: string (nullable = true)\n",
      " |-- potential: string (nullable = true)\n",
      " |-- value_eur: double (nullable = true)\n",
      " |-- wage_eur: double (nullable = true)\n",
      " |-- age: string (nullable = true)\n",
      " |-- dob: string (nullable = true)\n",
      " |-- height_cm: string (nullable = true)\n",
      " |-- weight_kg: string (nullable = true)\n",
      " |-- club_team_id: string (nullable = true)\n",
      " |-- club_name: string (nullable = true)\n",
      " |-- league_name: string (nullable = true)\n",
      " |-- league_level: string (nullable = true)\n",
      " |-- club_position: string (nullable = true)\n",
      " |-- club_jersey_number: string (nullable = true)\n",
      " |-- club_loaned_from: string (nullable = true)\n",
      " |-- club_joined: string (nullable = true)\n",
      " |-- club_contract_valid_until: string (nullable = true)\n",
      " |-- nationality_id: string (nullable = true)\n",
      " |-- nationality_name: string (nullable = true)\n",
      " |-- nation_team_id: string (nullable = true)\n",
      " |-- nation_position: string (nullable = true)\n",
      " |-- nation_jersey_number: string (nullable = true)\n",
      " |-- preferred_foot: string (nullable = true)\n",
      " |-- weak_foot: string (nullable = true)\n",
      " |-- skill_moves: string (nullable = true)\n",
      " |-- international_reputation: string (nullable = true)\n",
      " |-- work_rate: string (nullable = true)\n",
      " |-- body_type: string (nullable = true)\n",
      " |-- real_face: string (nullable = true)\n",
      " |-- release_clause_eur: string (nullable = true)\n",
      " |-- player_tags: string (nullable = true)\n",
      " |-- player_traits: string (nullable = true)\n",
      " |-- pace: string (nullable = true)\n",
      " |-- shooting: string (nullable = true)\n",
      " |-- passing: string (nullable = true)\n",
      " |-- dribbling: string (nullable = true)\n",
      " |-- defending: string (nullable = true)\n",
      " |-- physic: string (nullable = true)\n",
      " |-- attacking_crossing: string (nullable = true)\n",
      " |-- attacking_finishing: string (nullable = true)\n",
      " |-- attacking_heading_accuracy: string (nullable = true)\n",
      " |-- attacking_short_passing: string (nullable = true)\n",
      " |-- attacking_volleys: string (nullable = true)\n",
      " |-- skill_dribbling: string (nullable = true)\n",
      " |-- skill_curve: string (nullable = true)\n",
      " |-- skill_fk_accuracy: string (nullable = true)\n",
      " |-- skill_long_passing: string (nullable = true)\n",
      " |-- skill_ball_control: string (nullable = true)\n",
      " |-- movement_acceleration: string (nullable = true)\n",
      " |-- movement_sprint_speed: string (nullable = true)\n",
      " |-- movement_agility: string (nullable = true)\n",
      " |-- movement_reactions: string (nullable = true)\n",
      " |-- movement_balance: string (nullable = true)\n",
      " |-- power_shot_power: string (nullable = true)\n",
      " |-- power_jumping: string (nullable = true)\n",
      " |-- power_stamina: string (nullable = true)\n",
      " |-- power_strength: string (nullable = true)\n",
      " |-- power_long_shots: string (nullable = true)\n",
      " |-- mentality_aggression: string (nullable = true)\n",
      " |-- mentality_interceptions: string (nullable = true)\n",
      " |-- mentality_positioning: string (nullable = true)\n",
      " |-- mentality_vision: string (nullable = true)\n",
      " |-- mentality_penalties: string (nullable = true)\n",
      " |-- mentality_composure: string (nullable = true)\n",
      " |-- defending_marking_awareness: string (nullable = true)\n",
      " |-- defending_standing_tackle: string (nullable = true)\n",
      " |-- defending_sliding_tackle: string (nullable = true)\n",
      " |-- goalkeeping_diving: string (nullable = true)\n",
      " |-- goalkeeping_handling: string (nullable = true)\n",
      " |-- goalkeeping_kicking: string (nullable = true)\n",
      " |-- goalkeeping_positioning: string (nullable = true)\n",
      " |-- goalkeeping_reflexes: string (nullable = true)\n",
      " |-- goalkeeping_speed: string (nullable = true)\n",
      " |-- ls: string (nullable = true)\n",
      " |-- st: string (nullable = true)\n",
      " |-- rs: string (nullable = true)\n",
      " |-- lw: string (nullable = true)\n",
      " |-- lf: string (nullable = true)\n",
      " |-- cf: string (nullable = true)\n",
      " |-- rf: string (nullable = true)\n",
      " |-- rw: string (nullable = true)\n",
      " |-- lam: string (nullable = true)\n",
      " |-- cam: string (nullable = true)\n",
      " |-- ram: string (nullable = true)\n",
      " |-- lm: string (nullable = true)\n",
      " |-- lcm: string (nullable = true)\n",
      " |-- cm: string (nullable = true)\n",
      " |-- rcm: string (nullable = true)\n",
      " |-- rm: string (nullable = true)\n",
      " |-- lwb: string (nullable = true)\n",
      " |-- ldm: string (nullable = true)\n",
      " |-- cdm: string (nullable = true)\n",
      " |-- rdm: string (nullable = true)\n",
      " |-- rwb: string (nullable = true)\n",
      " |-- lb: string (nullable = true)\n",
      " |-- lcb: string (nullable = true)\n",
      " |-- cb: string (nullable = true)\n",
      " |-- rcb: string (nullable = true)\n",
      " |-- rb: string (nullable = true)\n",
      " |-- gk: string (nullable = true)\n",
      " |-- player_face_url: string (nullable = true)\n",
      " |-- club_logo_url: string (nullable = true)\n",
      " |-- club_flag_url: string (nullable = true)\n",
      " |-- nation_logo_url: string (nullable = true)\n",
      " |-- nation_flag_url: string (nullable = true)\n",
      "\n"
     ]
    }
   ],
   "source": [
    "df.printSchema()"
   ]
  },
  {
   "cell_type": "code",
   "execution_count": 15,
   "id": "8317884d-7d5d-4d8d-b31a-a7b8fbe9094d",
   "metadata": {},
   "outputs": [],
   "source": [
    "df.write.mode('overwrite').json(\"./Desktop/players.json\")"
   ]
  },
  {
   "cell_type": "markdown",
   "id": "880f0a60-e1e7-49a5-9482-037ee53d546c",
   "metadata": {},
   "source": [
    "# Analysis of the data"
   ]
  },
  {
   "cell_type": "markdown",
   "id": "93e363f8-6b84-48e1-b7e8-1f9b564a1d12",
   "metadata": {},
   "source": [
    "## Level 1"
   ]
  },
  {
   "cell_type": "markdown",
   "id": "5403e5a0-6232-40ad-88d2-aedc56c15d1a",
   "metadata": {},
   "source": [
    "1. Which foot do players prefer (in 22)? Are there players without?"
   ]
  },
  {
   "cell_type": "code",
   "execution_count": 19,
   "id": "c6a94dfe-4dc3-4ac3-abec-b051378ca588",
   "metadata": {},
   "outputs": [],
   "source": [
    "preferred_foot_distribution = df.groupBy(\"preferred_foot\").count()"
   ]
  },
  {
   "cell_type": "code",
   "execution_count": 20,
   "id": "7df33e52-54d3-4bd6-8de0-7dc39de359b1",
   "metadata": {},
   "outputs": [
    {
     "name": "stdout",
     "output_type": "stream",
     "text": [
      "+--------------+-----+\n",
      "|preferred_foot|count|\n",
      "+--------------+-----+\n",
      "|          Left| 4565|\n",
      "|         Right|14674|\n",
      "+--------------+-----+\n",
      "\n"
     ]
    }
   ],
   "source": [
    "preferred_foot_distribution.show()"
   ]
  },
  {
   "cell_type": "code",
   "execution_count": 21,
   "id": "6c90fbfd-17e1-41bd-b0c8-91e3601bcc0c",
   "metadata": {},
   "outputs": [],
   "source": [
    "left_foot = preferred_foot_distribution.select(\"count\").where(col(\"preferred_foot\") == \"Left\").first()"
   ]
  },
  {
   "cell_type": "code",
   "execution_count": 22,
   "id": "bda89e4d-bf04-4680-973c-8c356e912c76",
   "metadata": {},
   "outputs": [
    {
     "name": "stdout",
     "output_type": "stream",
     "text": [
      "Il y a 4565 joueurs qui préfèrent le pied gauche\n"
     ]
    }
   ],
   "source": [
    "print(f\"Il y a {left_foot[0]} joueurs qui préfèrent le pied gauche\")"
   ]
  },
  {
   "cell_type": "code",
   "execution_count": 23,
   "id": "ea150e35-b185-4540-a91a-16f8e1b8dfd2",
   "metadata": {},
   "outputs": [],
   "source": [
    "right_foot = preferred_foot_distribution.select(\"count\").where(col(\"preferred_foot\") == \"Right\").first()"
   ]
  },
  {
   "cell_type": "code",
   "execution_count": 24,
   "id": "10bd1287-c4a9-423d-a23b-bcfcb5ed7c57",
   "metadata": {},
   "outputs": [
    {
     "name": "stdout",
     "output_type": "stream",
     "text": [
      "Il y a 14674 joueurs qui préfèrent le pied droit\n"
     ]
    }
   ],
   "source": [
    "print(f\"Il y a {right_foot[0]} joueurs qui préfèrent le pied droit\")"
   ]
  },
  {
   "cell_type": "code",
   "execution_count": 25,
   "id": "5f397005-bff4-4fc4-b2c0-318daf9d5b64",
   "metadata": {},
   "outputs": [],
   "source": [
    "players_without_preferred_foot_distribution = df.select(\"preferred_foot\").where(col(\"preferred_foot\") == \"null\").count()"
   ]
  },
  {
   "cell_type": "code",
   "execution_count": 26,
   "id": "ad7c7d4a-006c-4202-9ed4-8dd542548abd",
   "metadata": {},
   "outputs": [
    {
     "name": "stdout",
     "output_type": "stream",
     "text": [
      "Il y a 0 joueurs qui n'ont pas de préférence\n"
     ]
    }
   ],
   "source": [
    "print(f\"Il y a {players_without_preferred_foot_distribution} joueurs qui n'ont pas de préférence\")"
   ]
  },
  {
   "cell_type": "markdown",
   "id": "77d57086-5c0a-48a2-9c07-c47b7c4485c7",
   "metadata": {},
   "source": [
    "2. Compare average salaries in 22 and in 15."
   ]
  },
  {
   "cell_type": "code",
   "execution_count": 28,
   "id": "9113dae9-cd32-4c74-84bc-ec969dbcd663",
   "metadata": {},
   "outputs": [],
   "source": [
    "df_avg = df.agg(avg(\"wage_eur\"))"
   ]
  },
  {
   "cell_type": "code",
   "execution_count": 29,
   "id": "9c202427-592b-4425-8db3-8620751042a9",
   "metadata": {},
   "outputs": [
    {
     "name": "stdout",
     "output_type": "stream",
     "text": [
      "+-----------------+\n",
      "|    avg(wage_eur)|\n",
      "+-----------------+\n",
      "|9017.989362811555|\n",
      "+-----------------+\n",
      "\n"
     ]
    }
   ],
   "source": [
    "df_avg.show()"
   ]
  },
  {
   "cell_type": "code",
   "execution_count": 30,
   "id": "5744ced2-ca3b-447d-adf7-e6ff0676027f",
   "metadata": {},
   "outputs": [],
   "source": [
    "avg_22 = df_avg.first()"
   ]
  },
  {
   "cell_type": "code",
   "execution_count": 31,
   "id": "53326d9b-791b-4321-abef-c342a2d801ea",
   "metadata": {},
   "outputs": [],
   "source": [
    "df_avg_15 = df15.agg(avg(\"wage_eur\"))"
   ]
  },
  {
   "cell_type": "code",
   "execution_count": 32,
   "id": "589b79e8-0f9e-4bb9-83e5-6d10d2e9a71b",
   "metadata": {},
   "outputs": [
    {
     "name": "stdout",
     "output_type": "stream",
     "text": [
      "+------------------+\n",
      "|     avg(wage_eur)|\n",
      "+------------------+\n",
      "|13252.513194269917|\n",
      "+------------------+\n",
      "\n"
     ]
    }
   ],
   "source": [
    "df_avg_15.show()"
   ]
  },
  {
   "cell_type": "code",
   "execution_count": 33,
   "id": "b7096f37-3481-4b47-a60d-5033c74ab5f3",
   "metadata": {},
   "outputs": [],
   "source": [
    "avg_15 = df_avg_15.first()"
   ]
  },
  {
   "cell_type": "code",
   "execution_count": 34,
   "id": "f1c32c60-cb47-4da4-9fa1-518cd385a717",
   "metadata": {},
   "outputs": [
    {
     "name": "stdout",
     "output_type": "stream",
     "text": [
      "La moyenne des salaires sur FIFA 15 est plus élevée que sur FIFA 22\n"
     ]
    }
   ],
   "source": [
    "if avg_15 > avg_22:\n",
    "    print(f\"La moyenne des salaires sur FIFA 15 est plus élevée que sur FIFA 22\")\n",
    "else:\n",
    "    print(f\"Le moyenne des salaires sur Fifa 22 est plus élévée que sur Fifa 15\")"
   ]
  },
  {
   "cell_type": "markdown",
   "id": "6bd82d0c-4d0d-41a4-a592-55ff9ee05954",
   "metadata": {},
   "source": [
    "3. Salaries of the top 20 best players? And values?"
   ]
  },
  {
   "cell_type": "code",
   "execution_count": 36,
   "id": "7c9d63bb-ac34-4da6-a51d-8c8a325e9139",
   "metadata": {},
   "outputs": [],
   "source": [
    "top_20 = df.select(\"short_name\",\"wage_eur\").orderBy(desc(\"wage_eur\")).limit(20)"
   ]
  },
  {
   "cell_type": "code",
   "execution_count": 37,
   "id": "854d8106-2947-4868-81f1-cc0e59d1a22f",
   "metadata": {},
   "outputs": [
    {
     "name": "stdout",
     "output_type": "stream",
     "text": [
      "+-----------------+--------+\n",
      "|       short_name|wage_eur|\n",
      "+-----------------+--------+\n",
      "|     K. De Bruyne|350000.0|\n",
      "|       K. Benzema|350000.0|\n",
      "|         L. Messi|320000.0|\n",
      "|         Casemiro|310000.0|\n",
      "|         T. Kroos|310000.0|\n",
      "|      R. Sterling|290000.0|\n",
      "|   R. Lewandowski|270000.0|\n",
      "|Cristiano Ronaldo|270000.0|\n",
      "|        Neymar Jr|270000.0|\n",
      "|          S. Mané|270000.0|\n",
      "|         M. Salah|270000.0|\n",
      "|        R. Lukaku|260000.0|\n",
      "|        S. Agüero|260000.0|\n",
      "|    M. ter Stegen|250000.0|\n",
      "|      T. Courtois|250000.0|\n",
      "|  Bruno Fernandes|250000.0|\n",
      "|          H. Kane|240000.0|\n",
      "|        E. Hazard|240000.0|\n",
      "|        K. Mbappé|230000.0|\n",
      "|         N. Kanté|230000.0|\n",
      "+-----------------+--------+\n",
      "\n"
     ]
    }
   ],
   "source": [
    "top_20.show()"
   ]
  },
  {
   "cell_type": "code",
   "execution_count": 38,
   "id": "3cebc81a-ee69-49d6-9516-b21900820f00",
   "metadata": {},
   "outputs": [],
   "source": [
    "top_20_collect = top_20.collect()"
   ]
  },
  {
   "cell_type": "code",
   "execution_count": 39,
   "id": "3d6c1f15-0b24-426b-9d58-c6469aa2196b",
   "metadata": {},
   "outputs": [
    {
     "name": "stdout",
     "output_type": "stream",
     "text": [
      "Les 20 plus gros salaires sont : K. De Bruyne, K. Benzema, L. Messi, Casemiro, T. Kroos, R. Sterling, R. Lewandowski, Cristiano Ronaldo, Neymar Jr, S. Mané, M. Salah, R. Lukaku, S. Agüero, M. ter Stegen, T. Courtois, Bruno Fernandes, H. Kane, E. Hazard, K. Mbappé, N. Kanté\n"
     ]
    }
   ],
   "source": [
    "print(f\"Les 20 plus gros salaires sont : {', '.join(str(nombre['short_name']) for nombre in top_20_collect)}\")"
   ]
  },
  {
   "cell_type": "code",
   "execution_count": 40,
   "id": "35d2ae10-ef0a-43bb-ab65-1d5b2f69b0b8",
   "metadata": {},
   "outputs": [],
   "source": [
    "top_20_values = df.select(\"short_name\",\"value_eur\").orderBy(desc(\"value_eur\")).limit(20)"
   ]
  },
  {
   "cell_type": "code",
   "execution_count": 41,
   "id": "ca538954-51f6-4ca5-a7c8-38a6d2cbb710",
   "metadata": {},
   "outputs": [
    {
     "name": "stdout",
     "output_type": "stream",
     "text": [
      "+-------------------+---------+\n",
      "|         short_name|value_eur|\n",
      "+-------------------+---------+\n",
      "|          K. Mbappé|   1.94E8|\n",
      "|         E. Haaland|  1.375E8|\n",
      "|            H. Kane|  1.295E8|\n",
      "|          Neymar Jr|   1.29E8|\n",
      "|       K. De Bruyne|  1.255E8|\n",
      "|     R. Lewandowski|  1.195E8|\n",
      "|      G. Donnarumma|  1.195E8|\n",
      "|         F. de Jong|  1.195E8|\n",
      "|          J. Sancho|  1.165E8|\n",
      "|T. Alexander-Arnold|   1.14E8|\n",
      "|           J. Oblak|   1.12E8|\n",
      "|         J. Kimmich|   1.08E8|\n",
      "|        R. Sterling|  1.075E8|\n",
      "|    Bruno Fernandes|  1.075E8|\n",
      "|             H. Son|   1.04E8|\n",
      "|         Rúben Dias|  1.025E8|\n",
      "|            S. Mané|   1.01E8|\n",
      "|           M. Salah|   1.01E8|\n",
      "|           N. Kanté|    1.0E8|\n",
      "|      M. ter Stegen|    9.9E7|\n",
      "+-------------------+---------+\n",
      "\n"
     ]
    }
   ],
   "source": [
    "top_20_values.show()"
   ]
  },
  {
   "cell_type": "code",
   "execution_count": 42,
   "id": "3b3e9abc-94e8-41d3-b77a-ba2f1cf58863",
   "metadata": {},
   "outputs": [],
   "source": [
    "top_20_value_collect = top_20_values.collect()"
   ]
  },
  {
   "cell_type": "code",
   "execution_count": 43,
   "id": "87f815eb-ee32-435e-aa0f-c6b3b36c2a63",
   "metadata": {},
   "outputs": [
    {
     "name": "stdout",
     "output_type": "stream",
     "text": [
      "Les 20 plus grandes valeurs marchandes sont : K. Mbappé, E. Haaland, H. Kane, Neymar Jr, K. De Bruyne, R. Lewandowski, G. Donnarumma, F. de Jong, J. Sancho, T. Alexander-Arnold, J. Oblak, J. Kimmich, R. Sterling, Bruno Fernandes, H. Son, Rúben Dias, S. Mané, M. Salah, N. Kanté, M. ter Stegen\n"
     ]
    }
   ],
   "source": [
    "print(f\"Les 20 plus grandes valeurs marchandes sont : {', '.join(str(nombre['short_name']) for nombre in top_20_value_collect)}\")"
   ]
  },
  {
   "cell_type": "markdown",
   "id": "e2fb6291-aa95-4cf2-8e21-5221263c3c69",
   "metadata": {},
   "source": [
    "4. Which player has the most potential in 15?"
   ]
  },
  {
   "cell_type": "code",
   "execution_count": 45,
   "id": "e1474f70-f8e8-424d-8914-f08b1d943b79",
   "metadata": {},
   "outputs": [],
   "source": [
    "potential15 = df15.select(\"long_name\").where(col(\"potential\") == df15.agg(max(\"potential\").alias(\"max_potential\")).collect()[0][\"max_potential\"])"
   ]
  },
  {
   "cell_type": "code",
   "execution_count": 46,
   "id": "faed6080-0ae3-4e21-9964-9d739c163787",
   "metadata": {},
   "outputs": [],
   "source": [
    "potential_name15 = potential15.collect()"
   ]
  },
  {
   "cell_type": "code",
   "execution_count": 47,
   "id": "e0f38f45-c19b-44dc-b636-8ac371bf69ac",
   "metadata": {},
   "outputs": [
    {
     "name": "stdout",
     "output_type": "stream",
     "text": [
      "Le joueur qui a le plus de potentiel Fifa 15 est Lionel Andrés Messi Cuccittini\n"
     ]
    }
   ],
   "source": [
    "print(f\"Le joueur qui a le plus de potentiel Fifa 15 est {potential_name15[0]['long_name']}\")"
   ]
  },
  {
   "cell_type": "markdown",
   "id": "750e17ce-a1c9-4f34-898a-12d898509b79",
   "metadata": {},
   "source": [
    "1. Is the potential confirmed in 22?"
   ]
  },
  {
   "cell_type": "code",
   "execution_count": 49,
   "id": "7ef9b705-fe6b-49ce-b1f9-4a23e60112d5",
   "metadata": {},
   "outputs": [],
   "source": [
    "potential22 = df.select(\"long_name\").where(col(\"potential\") == df.agg(max(\"potential\").alias(\"max_potential\")).collect()[0][\"max_potential\"])"
   ]
  },
  {
   "cell_type": "code",
   "execution_count": 50,
   "id": "cba7f1ca-d6ac-484a-964e-695b3138477f",
   "metadata": {},
   "outputs": [],
   "source": [
    "potential_name22 = potential22.collect()"
   ]
  },
  {
   "cell_type": "code",
   "execution_count": 51,
   "id": "ba9995fd-f4a3-45d7-b10a-7a593e931dfc",
   "metadata": {},
   "outputs": [
    {
     "name": "stdout",
     "output_type": "stream",
     "text": [
      "Le joueur qui a le plus de potentiel sur Fifa 22 est Kylian Mbappé Lottin\n"
     ]
    }
   ],
   "source": [
    "print(f\"Le joueur qui a le plus de potentiel sur Fifa 22 est {potential_name22[0]['long_name']}\")"
   ]
  },
  {
   "cell_type": "markdown",
   "id": "4e6c51f7-f71d-4c0f-9f78-52d7cf836704",
   "metadata": {},
   "source": [
    "2. Same for all top 10 players - not only the one with most potential."
   ]
  },
  {
   "cell_type": "code",
   "execution_count": 53,
   "id": "3a7747da-a17a-4d41-8625-9bf033758929",
   "metadata": {},
   "outputs": [],
   "source": [
    "top_10_potiential_15 = df15.select(\"long_name\", \"potential\").orderBy(desc(\"potential\")).limit(10)"
   ]
  },
  {
   "cell_type": "code",
   "execution_count": 54,
   "id": "0bb51fb6-f860-4845-b797-bf46b89023f2",
   "metadata": {},
   "outputs": [
    {
     "name": "stdout",
     "output_type": "stream",
     "text": [
      "+--------------------+---------+\n",
      "|           long_name|potential|\n",
      "+--------------------+---------+\n",
      "|Lionel Andrés Mes...|       95|\n",
      "|Cristiano Ronaldo...|       92|\n",
      "|James David Rodrí...|       92|\n",
      "|Luis Alberto Suár...|       91|\n",
      "|   Gareth Frank Bale|       91|\n",
      "|Neymar da Silva S...|       91|\n",
      "|         Mario Götze|       91|\n",
      "|  Manuel Peter Neuer|       90|\n",
      "|    Thibaut Courtois|       90|\n",
      "|         Eden Hazard|       90|\n",
      "+--------------------+---------+\n",
      "\n"
     ]
    }
   ],
   "source": [
    "top_10_potiential_15.show()"
   ]
  },
  {
   "cell_type": "code",
   "execution_count": 55,
   "id": "ceee45a3-1d75-4ea7-a904-3565f8fb4ef0",
   "metadata": {},
   "outputs": [],
   "source": [
    "top_10_potiential_22 = df.select(\"long_name\", \"potential\").orderBy(desc(\"potential\")).limit(10)"
   ]
  },
  {
   "cell_type": "code",
   "execution_count": 56,
   "id": "88943903-c948-44fb-b65c-6aa576a5e8df",
   "metadata": {},
   "outputs": [
    {
     "name": "stdout",
     "output_type": "stream",
     "text": [
      "+--------------------+---------+\n",
      "|           long_name|potential|\n",
      "+--------------------+---------+\n",
      "|Kylian Mbappé Lottin|       95|\n",
      "|Lionel Andrés Mes...|       93|\n",
      "|           Jan Oblak|       93|\n",
      "|Gianluigi Donnarumma|       93|\n",
      "|Erling Braut Haaland|       93|\n",
      "|     Frenkie de Jong|       92|\n",
      "|   Kai Lukas Havertz|       92|\n",
      "|Trent Alexander-A...|       92|\n",
      "|  Robert Lewandowski|       92|\n",
      "|        Philip Foden|       92|\n",
      "+--------------------+---------+\n",
      "\n"
     ]
    }
   ],
   "source": [
    "top_10_potiential_22.show()"
   ]
  },
  {
   "cell_type": "markdown",
   "id": "df886348-f7f6-42c4-bc15-67cd08aec972",
   "metadata": {},
   "source": [
    "3. How many players reached their potential in 22?"
   ]
  },
  {
   "cell_type": "code",
   "execution_count": 58,
   "id": "6ad785a5-5374-4774-b788-5db00cadae6a",
   "metadata": {},
   "outputs": [],
   "source": [
    "top_10_potiential_22_rename = df.withColumnRenamed(\"potential\", \"potential_22\")"
   ]
  },
  {
   "cell_type": "code",
   "execution_count": 59,
   "id": "8e3fae56-1359-46d2-a708-0afe78ae9008",
   "metadata": {},
   "outputs": [
    {
     "name": "stdout",
     "output_type": "stream",
     "text": [
      "+--------------------+------------+\n",
      "|           long_name|potential_22|\n",
      "+--------------------+------------+\n",
      "|Lionel Andrés Mes...|          93|\n",
      "|  Robert Lewandowski|          92|\n",
      "|Cristiano Ronaldo...|          91|\n",
      "|Neymar da Silva S...|          91|\n",
      "|     Kevin De Bruyne|          91|\n",
      "|           Jan Oblak|          93|\n",
      "|Kylian Mbappé Lottin|          95|\n",
      "|  Manuel Peter Neuer|          90|\n",
      "|Marc-André ter St...|          92|\n",
      "|          Harry Kane|          90|\n",
      "|        N'Golo Kanté|          90|\n",
      "|       Karim Benzema|          89|\n",
      "|    Thibaut Courtois|          91|\n",
      "|       손흥민 孙兴慜|          89|\n",
      "|Carlos Henrique V...|          89|\n",
      "|     Virgil van Dijk|          89|\n",
      "|          Sadio Mané|          89|\n",
      "| Mohamed Salah Ghaly|          89|\n",
      "|Ederson Santana d...|          91|\n",
      "|Joshua Walter Kim...|          90|\n",
      "+--------------------+------------+\n",
      "only showing top 20 rows\n",
      "\n"
     ]
    }
   ],
   "source": [
    "top_10_potiential_22_rename.select(\"long_name\",\"potential_22\").show()"
   ]
  },
  {
   "cell_type": "code",
   "execution_count": 60,
   "id": "ea657a91-058c-4fed-abd8-5664d59fc4b3",
   "metadata": {},
   "outputs": [],
   "source": [
    "union = df15.unionByName(top_10_potiential_22_rename, allowMissingColumns=True)"
   ]
  },
  {
   "cell_type": "code",
   "execution_count": 61,
   "id": "6605e9fa-ea2b-49d4-87db-59f70b25f653",
   "metadata": {},
   "outputs": [
    {
     "name": "stdout",
     "output_type": "stream",
     "text": [
      "+--------------------+---------+------------+\n",
      "|           long_name|potential|potential_22|\n",
      "+--------------------+---------+------------+\n",
      "|Lionel Andrés Mes...|       95|        NULL|\n",
      "|Cristiano Ronaldo...|       92|        NULL|\n",
      "|        Arjen Robben|       90|        NULL|\n",
      "|  Zlatan Ibrahimović|       90|        NULL|\n",
      "|  Manuel Peter Neuer|       90|        NULL|\n",
      "|Andrés Iniesta Luján|       89|        NULL|\n",
      "|Luis Alberto Suár...|       91|        NULL|\n",
      "|    Robin van Persie|       88|        NULL|\n",
      "|Bastian Schweinst...|       88|        NULL|\n",
      "| Franck Bilal Ribéry|       88|        NULL|\n",
      "|Radamel Falcao Ga...|       88|        NULL|\n",
      "|         Eden Hazard|       90|        NULL|\n",
      "|        Philipp Lahm|       87|        NULL|\n",
      "| Sergio Ramos García|       87|        NULL|\n",
      "|Thiago Emiliano d...|       87|        NULL|\n",
      "|David Josué Jimén...|       87|        NULL|\n",
      "|   Gareth Frank Bale|       91|        NULL|\n",
      "|         Luka Modrić|       87|        NULL|\n",
      "|  Robert Lewandowski|       89|        NULL|\n",
      "|Xavier Hernández ...|       86|        NULL|\n",
      "+--------------------+---------+------------+\n",
      "\n"
     ]
    }
   ],
   "source": [
    "reached = union.select(\"long_name\",\"potential\",\"potential_22\").limit(20).show()"
   ]
  },
  {
   "cell_type": "code",
   "execution_count": 62,
   "id": "bb51f40a-20a6-41b7-a5d0-6a41204ba8c4",
   "metadata": {},
   "outputs": [
    {
     "name": "stdout",
     "output_type": "stream",
     "text": [
      "+---------+--------------------+-----------------+--------------------+----------------+-------+---------+-----------+--------+---+----------+---------+---------+------------+-------------------+--------------------+------------+-------------+------------------+----------------+-----------+-------------------------+--------------+----------------+--------------+---------------+--------------------+--------------+---------+-----------+------------------------+-------------+----------------+---------+------------------+--------------------+--------------------+----+--------+-------+---------+---------+------+------------------+-------------------+--------------------------+-----------------------+-----------------+---------------+-----------+-----------------+------------------+------------------+---------------------+---------------------+----------------+------------------+----------------+----------------+-------------+-------------+--------------+----------------+--------------------+-----------------------+---------------------+----------------+-------------------+-------------------+---------------------------+-------------------------+------------------------+------------------+--------------------+-------------------+-----------------------+--------------------+-----------------+----+----+----+----+----+----+----+----+----+----+----+----+----+----+----+----+----+----+----+----+----+----+----+----+----+----+----+--------------------+--------------------+--------------------+--------------------+--------------------+------------+\n",
      "|sofifa_id|          player_url|       short_name|           long_name|player_positions|overall|potential|  value_eur|wage_eur|age|       dob|height_cm|weight_kg|club_team_id|          club_name|         league_name|league_level|club_position|club_jersey_number|club_loaned_from|club_joined|club_contract_valid_until|nationality_id|nationality_name|nation_team_id|nation_position|nation_jersey_number|preferred_foot|weak_foot|skill_moves|international_reputation|    work_rate|       body_type|real_face|release_clause_eur|         player_tags|       player_traits|pace|shooting|passing|dribbling|defending|physic|attacking_crossing|attacking_finishing|attacking_heading_accuracy|attacking_short_passing|attacking_volleys|skill_dribbling|skill_curve|skill_fk_accuracy|skill_long_passing|skill_ball_control|movement_acceleration|movement_sprint_speed|movement_agility|movement_reactions|movement_balance|power_shot_power|power_jumping|power_stamina|power_strength|power_long_shots|mentality_aggression|mentality_interceptions|mentality_positioning|mentality_vision|mentality_penalties|mentality_composure|defending_marking_awareness|defending_standing_tackle|defending_sliding_tackle|goalkeeping_diving|goalkeeping_handling|goalkeeping_kicking|goalkeeping_positioning|goalkeeping_reflexes|goalkeeping_speed|  ls|  st|  rs|  lw|  lf|  cf|  rf|  rw| lam| cam| ram|  lm| lcm|  cm| rcm|  rm| lwb| ldm| cdm| rdm| rwb|  lb| lcb|  cb| rcb|  rb|  gk|     player_face_url|       club_logo_url|       club_flag_url|     nation_logo_url|     nation_flag_url|potential_22|\n",
      "+---------+--------------------+-----------------+--------------------+----------------+-------+---------+-----------+--------+---+----------+---------+---------+------------+-------------------+--------------------+------------+-------------+------------------+----------------+-----------+-------------------------+--------------+----------------+--------------+---------------+--------------------+--------------+---------+-----------+------------------------+-------------+----------------+---------+------------------+--------------------+--------------------+----+--------+-------+---------+---------+------+------------------+-------------------+--------------------------+-----------------------+-----------------+---------------+-----------+-----------------+------------------+------------------+---------------------+---------------------+----------------+------------------+----------------+----------------+-------------+-------------+--------------+----------------+--------------------+-----------------------+---------------------+----------------+-------------------+-------------------+---------------------------+-------------------------+------------------------+------------------+--------------------+-------------------+-----------------------+--------------------+-----------------+----+----+----+----+----+----+----+----+----+----+----+----+----+----+----+----+----+----+----+----+----+----+----+----+----+----+----+--------------------+--------------------+--------------------+--------------------+--------------------+------------+\n",
      "|   158023|https://sofifa.co...|         L. Messi|Lionel Andrés Mes...|              CF|     93|       95|100500000.0|550000.0| 27|1987-06-24|      169|       67|       241.0|       FC Barcelona|Spain Primera Div...|           1|           CF|                10|            NULL| 2004-07-01|                     2018|            52|       Argentina|        1369.0|             CF|                  10|          Left|        3|          4|                       5|   Medium/Low|   Normal (170-)|      Yes|              NULL|#Speedster, #Drib...|Finesse Shot, Spe...|  93|      89|     86|       96|       27|    63|                84|                 94|                        71|                     89|               85|             96|         89|               90|                76|                96|                   96|                   90|              94|                94|              95|              80|           73|           77|            60|              88|                  48|                     22|                   92|              90|                 76|               NULL|                         25|                       21|                      20|                 6|                  11|                 15|                     14|                   8|             NULL|89+3|89+3|89+3|92+3|90+3|90+3|90+3|92+3|92+3|92+3|92+3|90+3|79+3|79+3|79+3|90+3|62+3|62+3|62+3|62+3|62+3|54+3|45+3|45+3|45+3|54+3|15+3|https://cdn.sofif...|https://cdn.sofif...|https://cdn.sofif...|https://cdn.sofif...|https://cdn.sofif...|        NULL|\n",
      "|    20801|https://sofifa.co...|Cristiano Ronaldo|Cristiano Ronaldo...|          LW, LM|     92|       92| 79000000.0|375000.0| 29|1985-02-05|      185|       80|       243.0|     Real Madrid CF|Spain Primera Div...|           1|           LW|                 7|            NULL| 2009-07-01|                     2018|            38|        Portugal|        1354.0|             LW|                   7|         Right|        4|          5|                       5|     High/Low|   Normal (185+)|      Yes|              NULL|#Speedster, #Drib...|Power Free-Kick, ...|  93|      93|     81|       91|       32|    79|                83|                 95|                        86|                     82|               87|             93|         88|               79|                72|                92|                   91|                   94|              93|                90|              63|              94|           94|           89|            79|              93|                  63|                     24|                   91|              81|                 85|               NULL|                         22|                       31|                      23|                 7|                  11|                 15|                     14|                  11|             NULL|91+1|91+1|91+1|89+3|91+1|91+1|91+1|89+3|89+3|89+3|89+3|87+3|77+3|77+3|77+3|87+3|63+3|63+3|63+3|63+3|63+3|57+3|52+3|52+3|52+3|57+3|16+3|https://cdn.sofif...|https://cdn.sofif...|https://cdn.sofif...|https://cdn.sofif...|https://cdn.sofif...|        NULL|\n",
      "|     9014|https://sofifa.co...|        A. Robben|        Arjen Robben|      RM, LM, RW|     90|       90| 54500000.0|275000.0| 30|1984-01-23|      180|       80|        21.0|  FC Bayern München|German 1. Bundesliga|           1|          SUB|                10|            NULL| 2009-08-28|                     2017|            34|     Netherlands|      105035.0|             RS|                  11|          Left|        2|          4|                       5|     High/Low|Normal (170-185)|      Yes|              NULL|#Speedster, #Drib...|Diver, Injury Pro...|  93|      86|     83|       92|       32|    64|                80|                 85|                        50|                     86|               86|             93|         85|               83|                76|                90|                   93|                   93|              93|                89|              91|              86|           61|           78|            65|              90|                  47|                     39|                   89|              84|                 80|               NULL|                         29|                       26|                      26|                10|                   8|                 11|                      5|                  15|             NULL|84+3|84+3|84+3|88+2|87+3|87+3|87+3|88+2|88+2|88+2|88+2|87+3|78+3|78+3|78+3|87+3|64+3|64+3|64+3|64+3|64+3|55+3|46+3|46+3|46+3|55+3|14+3|https://cdn.sofif...|https://cdn.sofif...|https://cdn.sofif...|https://cdn.sofif...|https://cdn.sofif...|        NULL|\n",
      "|    41236|https://sofifa.co...|   Z. Ibrahimović|  Zlatan Ibrahimović|              ST|     90|       90| 52500000.0|275000.0| 32|1981-10-03|      195|       95|        73.0|Paris Saint-Germain|      French Ligue 1|           1|           ST|                10|            NULL| 2012-07-01|                     2016|            46|          Sweden|        1363.0|             ST|                  10|         Right|        4|          4|                       5|   Medium/Low|   Normal (185+)|      Yes|              NULL|#Poacher, #Aerial...|Power Free-Kick, ...|  76|      91|     81|       86|       34|    86|                76|                 91|                        76|                     84|               92|             88|         80|               80|                76|                90|                   74|                   77|              86|                85|              41|              93|           72|           78|            93|              88|                  84|                     20|                   86|              83|                 91|               NULL|                         25|                       41|                      27|                13|                  15|                 10|                      9|                  12|             NULL|87+3|87+3|87+3|84+3|86+3|86+3|86+3|84+3|86+3|86+3|86+3|83+3|76+3|76+3|76+3|83+3|61+3|65+3|65+3|65+3|61+3|56+3|55+3|55+3|55+3|56+3|17+3|https://cdn.sofif...|https://cdn.sofif...|https://cdn.sofif...|https://cdn.sofif...|https://cdn.sofif...|        NULL|\n",
      "|   167495|https://sofifa.co...|         M. Neuer|  Manuel Peter Neuer|              GK|     90|       90| 63500000.0|300000.0| 28|1986-03-27|      193|       92|        21.0|  FC Bayern München|German 1. Bundesliga|           1|           GK|                 1|            NULL| 2011-07-01|                     2019|            21|         Germany|        1337.0|             GK|                   1|         Right|        4|          1|                       5|Medium/Medium|   Normal (185+)|      Yes|              NULL|                NULL|GK Up for Corners...|NULL|    NULL|   NULL|     NULL|     NULL|  NULL|                25|                 25|                        25|                     42|               25|             25|         25|               25|                41|                31|                   58|                   61|              43|                89|              35|              42|           78|           44|            83|              25|                  29|                     30|                   25|              20|                 37|               NULL|                         25|                       25|                      25|                87|                  85|                 92|                     90|                  86|               60|38+3|38+3|38+3|36+3|37+3|37+3|37+3|36+3|36+3|36+3|36+3|38+3|36+3|36+3|36+3|38+3|36+3|40+3|40+3|40+3|36+3|36+3|38+3|38+3|38+3|36+3|87+3|https://cdn.sofif...|https://cdn.sofif...|https://cdn.sofif...|https://cdn.sofif...|https://cdn.sofif...|        NULL|\n",
      "|       41|https://sofifa.co...|          Iniesta|Andrés Iniesta Luján|          CM, LW|     89|       89| 36000000.0|250000.0| 30|1984-05-11|      170|       65|       241.0|       FC Barcelona|Spain Primera Div...|           1|          LCM|                 8|            NULL| 2002-07-01|                     2018|            45|           Spain|        1362.0|             LW|                   6|         Right|        4|          4|                       5|  High/Medium|   Normal (170-)|      Yes|              NULL|#Dribbler, #Playm...|Finesse Shot, Pla...|  75|      72|     89|       91|       59|    63|                85|                 73|                        54|                     93|               74|             92|         80|               70|                89|                94|                   76|                   75|              83|                90|              86|              65|           54|           78|            59|              75|                  58|                     68|                   87|              93|                 71|               NULL|                         57|                       57|                      56|                 6|                  13|                  6|                     13|                   7|             NULL|77+3|77+3|77+3|87+2|82+3|82+3|82+3|87+2|88+1|88+1|88+1|88+1|86+3|86+3|86+3|88+1|76+3|77+3|77+3|77+3|76+3|70+3|63+3|63+3|63+3|70+3|14+3|https://cdn.sofif...|https://cdn.sofif...|https://cdn.sofif...|https://cdn.sofif...|https://cdn.sofif...|        NULL|\n",
      "|   176580|https://sofifa.co...|        L. Suárez|Luis Alberto Suár...|          ST, CF|     89|       91| 49500000.0|300000.0| 27|1987-01-24|      181|       81|       241.0|       FC Barcelona|Spain Primera Div...|           1|          RES|                 9|            NULL| 2014-07-11|                     2019|            60|         Uruguay|          NULL|           NULL|                NULL|         Right|        4|          4|                       5|  High/Medium|Normal (170-185)|      Yes|              NULL|#Acrobat, #Clinic...|Diver, Beat Offsi...|  83|      87|     79|       88|       42|    79|                77|                 91|                        75|                     82|               85|             90|         86|               84|                64|                89|                   88|                   79|              86|                91|              60|              84|           69|           86|            76|              82|                  78|                     41|                   88|              84|                 85|               NULL|                         30|                       45|                      38|                27|                  25|                 31|                     33|                  37|             NULL|86+3|86+3|86+3|85+3|86+3|86+3|86+3|85+3|87+3|87+3|87+3|84+3|77+3|77+3|77+3|84+3|67+3|67+3|67+3|67+3|67+3|62+3|57+3|57+3|57+3|62+3|34+3|https://cdn.sofif...|https://cdn.sofif...|https://cdn.sofif...|                NULL|https://cdn.sofif...|        NULL|\n",
      "|     7826|https://sofifa.co...|    R. van Persie|    Robin van Persie|              ST|     88|       88| 40500000.0|230000.0| 30|1983-08-06|      187|       71|        11.0|  Manchester United|English Premier L...|           1|           RS|                20|            NULL| 2012-08-17|                     2016|            34|     Netherlands|      105035.0|             LS|                   9|          Left|        3|          4|                       5|   Medium/Low|   Normal (185+)|      Yes|              NULL|#Distance Shooter...|Injury Prone, Fla...|  74|      90|     82|       83|       33|    68|                81|                 91|                        73|                     85|               92|             84|         86|               81|                75|                87|                   73|                   74|              80|                88|              59|              90|           59|           72|            72|              86|                  55|                     34|                   90|              82|                 86|               NULL|                         23|                       32|                      21|                 9|                  10|                  5|                      7|                   8|             NULL|85+3|85+3|85+3|84+3|86+2|86+2|86+2|84+3|85+3|85+3|85+3|82+3|76+3|76+3|76+3|82+3|60+3|63+3|63+3|63+3|60+3|54+3|48+3|48+3|48+3|54+3|13+3|https://cdn.sofif...|https://cdn.sofif...|https://cdn.sofif...|https://cdn.sofif...|https://cdn.sofif...|        NULL|\n",
      "|   121944|https://sofifa.co...|B. Schweinsteiger|Bastian Schweinst...|         CM, CDM|     88|       88| 39000000.0|200000.0| 29|1984-08-01|      183|       79|        21.0|  FC Bayern München|German 1. Bundesliga|           1|          SUB|                31|            NULL| 2002-07-01|                     2016|            21|         Germany|        1337.0|            SUB|                   7|         Right|        3|          3|                       4|    High/High|Normal (170-185)|      Yes|              NULL|#Playmaker, #Engi...|Injury Prone, Lea...|  61|      81|     85|       82|       78|    80|                81|                 76|                        79|                     88|               83|             81|         82|               78|                87|                86|                   58|                   64|              74|                90|              75|              86|           82|           86|            77|              86|                  80|                     86|                   82|              86|                 81|               NULL|                         69|                       80|                      77|                14|                  14|                 13|                     13|                  11|             NULL|80+2|80+2|80+2|80+2|82+2|82+2|82+2|80+2|84+2|84+2|84+2|82+2|86+2|86+2|86+2|82+2|81+2|84+2|84+2|84+2|81+2|81+2|79+2|79+2|79+2|81+2|18+2|https://cdn.sofif...|https://cdn.sofif...|https://cdn.sofif...|https://cdn.sofif...|https://cdn.sofif...|        NULL|\n",
      "|   156616|https://sofifa.co...|        F. Ribéry| Franck Bilal Ribéry|              LM|     88|       88| 33000000.0|200000.0| 31|1983-04-07|      170|       72|        21.0|  FC Bayern München|German 1. Bundesliga|           1|          SUB|                 7|            NULL| 2007-07-01|                     2017|            18|          France|          NULL|           NULL|                NULL|         Right|        4|          5|                       4|  High/Medium|   Normal (170-)|      Yes|              NULL| #Dribbler, #Acrobat|Injury Prone, Fla...|  89|      78|     85|       92|       29|    62|                83|                 79|                        41|                     89|               81|             92|         84|               81|                74|                91|                   91|                   87|              92|                89|              92|              76|           51|           72|            62|              73|                  52|                     36|                   83|              88|                 80|               NULL|                         25|                       25|                      26|                15|                   6|                  9|                      7|                  10|             NULL|79+2|79+2|79+2|87+1|82+2|82+2|82+2|87+1|87+1|87+1|87+1|86+2|77+2|77+2|77+2|86+2|63+2|63+2|63+2|63+2|63+2|53+2|44+2|44+2|44+2|53+2|14+2|https://cdn.sofif...|https://cdn.sofif...|https://cdn.sofif...|                NULL|https://cdn.sofif...|        NULL|\n",
      "|   167397|https://sofifa.co...|           Falcao|Radamel Falcao Ga...|              ST|     88|       88| 46500000.0|250000.0| 28|1986-02-10|      177|       72|        11.0|  Manchester United|English Premier L...|           1|          SUB|                 9|       AS Monaco|       NULL|                     2015|            56|        Colombia|      111109.0|             ST|                   9|         Right|        4|          4|                       4|  High/Medium|Normal (170-185)|      Yes|              NULL|      #Aerial Threat|Finesse Shot, Pow...|  77|      86|     64|       81|       40|    73|                55|                 91|                        94|                     69|               90|             78|         83|               71|                53|                83|                   80|                   75|              85|                89|              75|              79|           93|           71|            74|              77|                  70|                     41|                   92|              68|                 87|               NULL|                         25|                       42|                      25|                10|                  13|                  6|                      9|                   5|             NULL|86+2|86+2|86+2|76+2|83+2|83+2|83+2|76+2|79+2|79+2|79+2|73+2|69+2|69+2|69+2|73+2|58+2|60+2|60+2|60+2|58+2|56+2|55+2|55+2|55+2|56+2|14+2|https://cdn.sofif...|https://cdn.sofif...|https://cdn.sofif...|https://cdn.sofif...|https://cdn.sofif...|        NULL|\n",
      "|   183277|https://sofifa.co...|        E. Hazard|         Eden Hazard|          LM, RM|     88|       90| 40500000.0|210000.0| 23|1991-01-07|      173|       74|         5.0|            Chelsea|English Premier L...|           1|           LM|                10|            NULL| 2012-07-01|                     2017|             7|         Belgium|        1325.0|             LM|                  10|         Right|        4|          4|                       4|  High/Medium|Normal (170-185)|      Yes|              NULL|#Speedster, #Drib...|Injury Free, Self...|  90|      82|     84|       91|       32|    64|                78|                 83|                        57|                     87|               79|             92|         82|               79|                82|                89|                   93|                   87|              92|                85|              90|              79|           59|           74|            63|              82|                  54|                     41|                   84|              86|                 86|               NULL|                         25|                       27|                      22|                11|                  12|                  6|                      8|                   8|             NULL|81+2|81+2|81+2|86+2|84+2|84+2|84+2|86+2|87+2|87+2|87+2|86+2|78+2|78+2|78+2|86+2|62+2|64+2|64+2|64+2|62+2|54+2|46+2|46+2|46+2|54+2|14+2|https://cdn.sofif...|https://cdn.sofif...|https://cdn.sofif...|https://cdn.sofif...|https://cdn.sofif...|        NULL|\n",
      "|   121939|https://sofifa.co...|          P. Lahm|        Philipp Lahm|     CDM, RB, CM|     87|       87| 24500000.0|190000.0| 30|1983-11-11|      170|       66|        21.0|  FC Bayern München|German 1. Bundesliga|           1|          RCM|                21|            NULL| 2002-11-01|                     2018|            21|         Germany|          NULL|           NULL|                NULL|         Right|        3|          3|                       4|    High/High|   Normal (170-)|      Yes|              NULL|#Engine, #Tacklin...|Injury Free, Dive...|  76|      56|     84|       83|       87|    67|                84|                 47|                        64|                     88|               66|             80|         77|               59|                84|                85|                   77|                   76|              83|                92|              92|              57|           72|           88|            59|              65|                  58|                     93|                   69|              84|                 72|               NULL|                         87|                       88|                      95|                11|                  12|                  5|                     14|                   5|             NULL|67+2|67+2|67+2|80+2|72+2|72+2|72+2|80+2|79+2|79+2|79+2|83+2|84+2|84+2|84+2|83+2|88-1|85+2|85+2|85+2|88-1|85+2|81+2|81+2|81+2|85+2|15+2|https://cdn.sofif...|https://cdn.sofif...|https://cdn.sofif...|                NULL|https://cdn.sofif...|        NULL|\n",
      "|   155862|https://sofifa.co...|     Sergio Ramos| Sergio Ramos García|              CB|     87|       87| 31500000.0|220000.0| 28|1986-03-30|      183|       75|       243.0|     Real Madrid CF|Spain Primera Div...|           1|          LCB|                 4|            NULL| 2005-08-01|                     2017|            45|           Spain|        1362.0|            LCB|                  15|         Right|        3|          3|                       4|  High/Medium|Normal (170-185)|      Yes|              NULL|#Tackling, #Tacti...|Leadership, Power...|  79|      61|     71|       66|       87|    82|                74|                 59|                        86|                     76|               55|             52|         73|               64|                70|                83|                   79|                   79|              84|                82|              60|              71|           91|           82|            80|              55|                  83|                     87|                   52|              63|                 68|               NULL|                         85|                       89|                      90|                11|                   8|                  9|                      7|                  11|             NULL|68+2|68+2|68+2|70+2|67+2|67+2|67+2|70+2|68+2|68+2|68+2|71+2|72+2|72+2|72+2|71+2|81+2|80+2|80+2|80+2|81+2|84+2|85+2|85+2|85+2|84+2|14+2|https://cdn.sofif...|https://cdn.sofif...|https://cdn.sofif...|https://cdn.sofif...|https://cdn.sofif...|        NULL|\n",
      "|   164240|https://sofifa.co...|     Thiago Silva|Thiago Emiliano d...|              CB|     87|       87| 29000000.0|190000.0| 29|1984-09-22|      183|       79|        73.0|Paris Saint-Germain|      French Ligue 1|           1|          LCB|                 2|            NULL| 2012-07-01|                     2018|            54|          Brazil|        1370.0|            LCB|                   3|         Right|        3|          3|                       4|  Medium/High|Normal (170-185)|      Yes|              NULL|#Tackling, #Tacti...|Leadership, Long ...|  78|      57|     72|       72|       90|    80|                60|                 38|                        81|                     75|               63|             68|         61|               73|                81|                78|                   75|                   80|              75|                83|              68|              78|           90|           80|            81|              71|                  76|                     91|                   59|              74|                 71|               NULL|                         90|                       91|                      89|                 9|                  12|                  5|                      9|                  10|             NULL|67+2|67+2|67+2|70+2|69+2|69+2|69+2|70+2|71+2|71+2|71+2|73+2|77+2|77+2|77+2|73+2|81+2|82+2|82+2|82+2|81+2|83+2|85+2|85+2|85+2|83+2|14+2|https://cdn.sofif...|https://cdn.sofif...|https://cdn.sofif...|https://cdn.sofif...|https://cdn.sofif...|        NULL|\n",
      "|   168542|https://sofifa.co...|      David Silva|David Josué Jimén...|         LM, CAM|     87|       87| 36500000.0|220000.0| 28|1986-01-08|      170|       67|        10.0|    Manchester City|English Premier L...|           1|          CAM|                21|            NULL| 2010-07-14|                     2019|            45|           Spain|        1362.0|            CAM|                  21|          Left|        2|          4|                       4|     High/Low|Normal (170-185)|      Yes|              NULL|#Dribbler, #Playm...|Avoids Using Weak...|  76|      77|     86|       89|       33|    57|                82|                 76|                        58|                     89|               80|             87|         83|               77|                85|                91|                   83|                   71|              93|                85|              88|              76|           66|           68|            53|              80|                  51|                     41|                   84|              90|                 77|               NULL|                         23|                       30|                      29|                13|                   9|                 13|                      9|                  13|             NULL|78+2|78+2|78+2|85+2|82+2|82+2|82+2|85+2|86+1|86+1|86+1|85+2|79+2|79+2|79+2|85+2|63+2|64+2|64+2|64+2|63+2|54+2|47+2|47+2|47+2|54+2|16+2|https://cdn.sofif...|https://cdn.sofif...|https://cdn.sofif...|https://cdn.sofif...|https://cdn.sofif...|        NULL|\n",
      "|   173731|https://sofifa.co...|          G. Bale|   Gareth Frank Bale|          RM, RW|     87|       91| 39000000.0|200000.0| 24|1989-07-16|      183|       74|       243.0|     Real Madrid CF|Spain Primera Div...|           1|           RW|                11|            NULL| 2013-09-02|                     2019|            50|           Wales|        1367.0|             RM|                  11|          Left|        3|          4|                       4|  High/Medium|  Lean (170-185)|      Yes|              NULL|#Speedster, #Dist...|Avoids Using Weak...|  94|      83|     83|       84|       63|    81|                84|                 81|                        74|                     84|               76|             87|         87|               85|                80|                85|                   93|                   95|              77|                84|              65|              87|           67|           90|            79|              88|                  77|                     59|                   83|              79|                 76|               NULL|                         60|                       65|                      62|                15|                  15|                 11|                      5|                   6|             NULL|83+2|83+2|83+2|85+2|85+2|85+2|85+2|85+2|84+2|84+2|84+2|85+2|81+2|81+2|81+2|85+2|76+2|75+2|75+2|75+2|76+2|74+2|70+2|70+2|70+2|74+2|15+2|https://cdn.sofif...|https://cdn.sofif...|https://cdn.sofif...|https://cdn.sofif...|https://cdn.sofif...|        NULL|\n",
      "|   177003|https://sofifa.co...|        L. Modrić|         Luka Modrić|         CM, CDM|     87|       87| 36500000.0|220000.0| 28|1985-09-09|      174|       65|       243.0|     Real Madrid CF|Spain Primera Div...|           1|          RCM|                19|            NULL| 2012-08-01|                     2018|            10|         Croatia|          NULL|           NULL|                NULL|         Right|        4|          4|                       4|  High/Medium|  Lean (170-185)|      Yes|              NULL|#Dribbler, #Playm...|Long Passer (AI),...|  76|      74|     85|       89|       71|    70|                78|                 71|                        55|                     88|               75|             86|         82|               79|                86|                92|                   78|                   74|              93|                88|              94|              72|           67|           86|            66|              82|                  62|                     73|                   79|              89|                 80|               NULL|                         69|                       75|                      73|                13|                   9|                  7|                     14|                   9|             NULL|76+2|76+2|76+2|84+2|80+2|80+2|80+2|84+2|85+2|85+2|85+2|85+2|85+2|85+2|85+2|85+2|81+2|80+2|80+2|80+2|81+2|76+2|72+2|72+2|72+2|76+2|16+2|https://cdn.sofif...|https://cdn.sofif...|https://cdn.sofif...|                NULL|https://cdn.sofif...|        NULL|\n",
      "|   188545|https://sofifa.co...|   R. Lewandowski|  Robert Lewandowski|          ST, CF|     87|       89| 44000000.0|210000.0| 25|1988-08-21|      184|       78|        21.0|  FC Bayern München|German 1. Bundesliga|           1|           LS|                 9|            NULL| 2014-07-01|                     2019|            37|          Poland|        1353.0|             LS|                   9|         Right|        4|          4|                       4|  High/Medium|Normal (170-185)|      Yes|              NULL|  #Clinical Finisher|Injury Free, Chip...|  80|      84|     74|       85|       39|    78|                62|                 87|                        83|                     83|               82|             84|         77|               68|                65|                87|                   79|                   81|              80|                88|              81|              84|           83|           75|            79|              80|                  80|                     39|                   87|              78|                 77|               NULL|                         25|                       42|                      25|                15|                   6|                 12|                      8|                  10|             NULL|85+2|85+2|85+2|80+2|84+2|84+2|84+2|80+2|84+2|84+2|84+2|79+2|75+2|75+2|75+2|79+2|61+2|65+2|65+2|65+2|61+2|58+2|56+2|56+2|56+2|58+2|15+2|https://cdn.sofif...|https://cdn.sofif...|https://cdn.sofif...|https://cdn.sofif...|https://cdn.sofif...|        NULL|\n",
      "|    10535|https://sofifa.co...|             Xavi|Xavier Hernández ...|              CM|     86|       86| 15500000.0|160000.0| 34|1980-01-25|      170|       68|       241.0|       FC Barcelona|Spain Primera Div...|           1|          SUB|                 6|            NULL| 1998-07-01|                     2021|            45|           Spain|          NULL|           NULL|                NULL|         Right|        3|          3|                       4|Medium/Medium|   Normal (170-)|      Yes|              NULL|#Playmaker, #FK S...|Playmaker (AI), O...|  66|      72|     91|       85|       60|    58|                85|                 74|                        51|                     95|               66|             80|         85|               87|                90|                93|                   67|                   65|              79|                90|              90|              67|           53|           60|            60|              72|                  53|                     71|                   83|              94|                 75|               NULL|                         55|                       61|                      59|                 5|                  15|                 12|                      5|                   9|             NULL|74+2|74+2|74+2|83+2|79+2|79+2|79+2|83+2|  86|  86|  86|84+2|84+2|84+2|84+2|84+2|75+2|77+2|77+2|77+2|75+2|69+2|63+2|63+2|63+2|69+2|13+2|https://cdn.sofif...|https://cdn.sofif...|https://cdn.sofif...|                NULL|https://cdn.sofif...|        NULL|\n",
      "+---------+--------------------+-----------------+--------------------+----------------+-------+---------+-----------+--------+---+----------+---------+---------+------------+-------------------+--------------------+------------+-------------+------------------+----------------+-----------+-------------------------+--------------+----------------+--------------+---------------+--------------------+--------------+---------+-----------+------------------------+-------------+----------------+---------+------------------+--------------------+--------------------+----+--------+-------+---------+---------+------+------------------+-------------------+--------------------------+-----------------------+-----------------+---------------+-----------+-----------------+------------------+------------------+---------------------+---------------------+----------------+------------------+----------------+----------------+-------------+-------------+--------------+----------------+--------------------+-----------------------+---------------------+----------------+-------------------+-------------------+---------------------------+-------------------------+------------------------+------------------+--------------------+-------------------+-----------------------+--------------------+-----------------+----+----+----+----+----+----+----+----+----+----+----+----+----+----+----+----+----+----+----+----+----+----+----+----+----+----+----+--------------------+--------------------+--------------------+--------------------+--------------------+------------+\n",
      "only showing top 20 rows\n",
      "\n"
     ]
    }
   ],
   "source": [
    "union.show()"
   ]
  },
  {
   "cell_type": "markdown",
   "id": "f198e317-8129-4ce9-902a-eff20a96b14b",
   "metadata": {},
   "source": [
    "5. Which country has:"
   ]
  },
  {
   "cell_type": "markdown",
   "id": "0d7ecb1a-5de8-4f00-a1df-34279d511136",
   "metadata": {},
   "source": [
    "1. The most players?"
   ]
  },
  {
   "cell_type": "markdown",
   "id": "5c02b17e-9abc-4cfe-8038-939d8809e2f8",
   "metadata": {},
   "source": [
    "mp.select(\"nationality_name\").where(col(\"count\") == mp.select(max(\"count\")).collect()[0][0]).show()"
   ]
  },
  {
   "cell_type": "markdown",
   "id": "1edaad3c-82cb-4a3d-bbad-5b4e4531bb7b",
   "metadata": {},
   "source": [
    "skip"
   ]
  },
  {
   "cell_type": "code",
   "execution_count": 67,
   "id": "61189c39-295e-4eef-8788-c6c9d232fb63",
   "metadata": {},
   "outputs": [],
   "source": [
    "df = df.withColumn(\"international_reputation\", col(\"international_reputation\").cast(\"int\"))"
   ]
  },
  {
   "cell_type": "code",
   "execution_count": 68,
   "id": "d1894ab6-f921-48cd-9831-39a86f2b2764",
   "metadata": {},
   "outputs": [],
   "source": [
    "df = df.withColumn(\"nationality_id\", col(\"nationality_id\").cast(\"int\"))"
   ]
  },
  {
   "cell_type": "code",
   "execution_count": 69,
   "id": "4017f97c-21ce-4465-92ab-7ef077a8c3ec",
   "metadata": {},
   "outputs": [],
   "source": [
    "df.createOrReplaceTempView(\"players\")"
   ]
  },
  {
   "cell_type": "code",
   "execution_count": 70,
   "id": "a7c4c524-7d94-4ec8-b017-7633028cb8a5",
   "metadata": {},
   "outputs": [],
   "source": [
    "testN = spark.sql(\"select max(international_reputation),nationality_id,any_value(short_name),any_value(nationality_name) from players group by nationality_id order by nationality_id\")"
   ]
  },
  {
   "cell_type": "code",
   "execution_count": 71,
   "id": "8f2f1e9e-395a-47c5-8b3a-a854b6fef6fc",
   "metadata": {},
   "outputs": [
    {
     "name": "stdout",
     "output_type": "stream",
     "text": [
      "+-----------------------------+--------------+---------------------+---------------------------+\n",
      "|max(international_reputation)|nationality_id|any_value(short_name)|any_value(nationality_name)|\n",
      "+-----------------------------+--------------+---------------------+---------------------------+\n",
      "|                            2|             1|         T. Strakosha|                    Albania|\n",
      "|                            1|             2|           Marc Vales|                    Andorra|\n",
      "|                            3|             3|        H. Mkhitaryan|                    Armenia|\n",
      "|                            4|             4|             D. Alaba|                    Austria|\n",
      "|                            1|             5|           D. Nazarov|                 Azerbaijan|\n",
      "|                            1|             6|        V. Lisakovich|                    Belarus|\n",
      "|                            4|             7|         K. De Bruyne|                    Belgium|\n",
      "|                            3|             8|             E. Džeko|       Bosnia and Herzeg...|\n",
      "|                            1|             9|           K. Malinov|                   Bulgaria|\n",
      "|                            4|            10|            L. Modrić|                    Croatia|\n",
      "|                            1|            11|            K. Laifis|                     Cyprus|\n",
      "|                            3|            12|            T. Souček|             Czech Republic|\n",
      "|                            3|            13|        K. Schmeichel|                    Denmark|\n",
      "|                            4|            14|              H. Kane|                    England|\n",
      "|                            3|            15|             S. Savić|                 Montenegro|\n",
      "|                            1|            16|        G. Rólantsson|              Faroe Islands|\n",
      "|                            3|            17|          L. Hrádecký|                    Finland|\n",
      "|                            4|            18|            K. Mbappé|                     France|\n",
      "|                            3|            19|            E. Bardhi|            North Macedonia|\n",
      "|                            1|            20|         G. Makaridze|                    Georgia|\n",
      "+-----------------------------+--------------+---------------------+---------------------------+\n",
      "only showing top 20 rows\n",
      "\n"
     ]
    }
   ],
   "source": [
    "testN.show()"
   ]
  },
  {
   "cell_type": "markdown",
   "id": "8bcaca4c-1d05-42a1-b617-0917d29794e9",
   "metadata": {},
   "source": [
    "The least number of players?"
   ]
  },
  {
   "cell_type": "markdown",
   "id": "4d928208-61ff-4499-96d4-4aeaa24c4f39",
   "metadata": {},
   "source": [
    "df.select(\"nationality_name\").where(col(\"count\") == df.select(min(\"count\")).collect()[0][0]).show()"
   ]
  },
  {
   "cell_type": "markdown",
   "id": "ea1566f4-f5bb-4ce3-ae42-6e2840ca6660",
   "metadata": {},
   "source": [
    "6. The best potential per country?"
   ]
  },
  {
   "cell_type": "code",
   "execution_count": 75,
   "id": "9a201ba3-5667-4c0e-90c3-cec39b17bf61",
   "metadata": {},
   "outputs": [
    {
     "name": "stdout",
     "output_type": "stream",
     "text": [
      "+-------------+---------+-------------------+----+\n",
      "|   short_name|potential|   nationality_name|rang|\n",
      "+-------------+---------+-------------------+----+\n",
      "|   O. Haydary|       69|        Afghanistan|   1|\n",
      "|     A. Broja|       84|            Albania|   1|\n",
      "|    R. Mahrez|       86|            Algeria|   1|\n",
      "|   Marc Vales|       64|            Andorra|   1|\n",
      "|    A. Pululu|       80|             Angola|   1|\n",
      "|       Milson|       80|             Angola|   1|\n",
      "|     M. Romeo|       73|Antigua and Barbuda|   1|\n",
      "|     L. Messi|       93|          Argentina|   1|\n",
      "|H. Mkhitaryan|       83|            Armenia|   1|\n",
      "|      M. Ryan|       79|          Australia|   1|\n",
      "|   H. Souttar|       79|          Australia|   1|\n",
      "|  M. Sabitzer|       85|            Austria|   1|\n",
      "|    K. Laimer|       85|            Austria|   1|\n",
      "|     Y. Demir|       85|            Austria|   1|\n",
      "|  R. Dadashov|       74|         Azerbaijan|   1|\n",
      "|      H. Hope|       63|           Barbados|   1|\n",
      "|V. Lisakovich|       77|            Belarus|   1|\n",
      "| K. De Bruyne|       91|            Belgium|   1|\n",
      "|  T. Courtois|       91|            Belgium|   1|\n",
      "|     T. Rocha|       63|             Belize|   1|\n",
      "+-------------+---------+-------------------+----+\n",
      "only showing top 20 rows\n",
      "\n"
     ]
    }
   ],
   "source": [
    "spark.sql(\"SELECT short_name, potential, nationality_name, DENSE_RANK() OVER (PARTITION BY nationality_name ORDER BY potential DESC) AS rang FROM players\").where(col(\"rang\") == 1).show()"
   ]
  },
  {
   "cell_type": "markdown",
   "id": "f94adb8c-34c4-44e8-add5-829df4350ddb",
   "metadata": {},
   "source": [
    "7. Evolution of average of salary over the years?"
   ]
  },
  {
   "cell_type": "code",
   "execution_count": 77,
   "id": "70048df0-363a-4d6f-a202-49d0fb7dd1b3",
   "metadata": {},
   "outputs": [],
   "source": [
    "df15.createOrReplaceTempView(\"players15\")"
   ]
  },
  {
   "cell_type": "code",
   "execution_count": 78,
   "id": "17f43e18-0854-46f5-89c6-266da5b106f3",
   "metadata": {},
   "outputs": [
    {
     "name": "stdout",
     "output_type": "stream",
     "text": [
      "+-----+------------------+\n",
      "|annee|            salary|\n",
      "+-----+------------------+\n",
      "| 2015|13252.513194269917|\n",
      "| 2017|11505.123186737279|\n",
      "| 2022| 9017.989362811555|\n",
      "+-----+------------------+\n",
      "\n"
     ]
    }
   ],
   "source": [
    "spark.sql(\"select '2015' as annee,avg(wage_eur) AS salary from players15 UNION ALL select '2017',avg(wage_eur)  from players17 UNION ALL select '2022',avg(wage_eur)  from players\").show()"
   ]
  },
  {
   "cell_type": "markdown",
   "id": "8312223e-b10a-434d-98b8-a13c78d22765",
   "metadata": {},
   "source": [
    "8. Which country has the highest total income?"
   ]
  },
  {
   "cell_type": "code",
   "execution_count": 80,
   "id": "0e6fc7e6-c0b9-4f19-8b29-c263f61541b0",
   "metadata": {},
   "outputs": [
    {
     "name": "stdout",
     "output_type": "stream",
     "text": [
      "+----------------+----------+\n",
      "|nationality_name|     total|\n",
      "+----------------+----------+\n",
      "|         England|1.765485E7|\n",
      "+----------------+----------+\n",
      "\n"
     ]
    },
    {
     "name": "stderr",
     "output_type": "stream",
     "text": [
      "24/09/25 09:15:06 WARN WindowExec: No Partition Defined for Window operation! Moving all data to a single partition, this can cause serious performance degradation.\n",
      "24/09/25 09:15:06 WARN WindowExec: No Partition Defined for Window operation! Moving all data to a single partition, this can cause serious performance degradation.\n",
      "24/09/25 09:15:06 WARN WindowExec: No Partition Defined for Window operation! Moving all data to a single partition, this can cause serious performance degradation.\n",
      "24/09/25 09:15:06 WARN WindowExec: No Partition Defined for Window operation! Moving all data to a single partition, this can cause serious performance degradation.\n",
      "24/09/25 09:15:06 WARN WindowExec: No Partition Defined for Window operation! Moving all data to a single partition, this can cause serious performance degradation.\n",
      "24/09/25 09:15:06 WARN WindowExec: No Partition Defined for Window operation! Moving all data to a single partition, this can cause serious performance degradation.\n",
      "24/09/25 09:15:06 WARN WindowExec: No Partition Defined for Window operation! Moving all data to a single partition, this can cause serious performance degradation.\n"
     ]
    }
   ],
   "source": [
    "spark.sql(\"SELECT nationality_name, total FROM (SELECT nationality_name, SUM(wage_eur) AS total, RANK() OVER (ORDER BY SUM(wage_eur) DESC) AS rang FROM players GROUP BY nationality_name ) AS ranked WHERE rang = 1\").show()"
   ]
  },
  {
   "cell_type": "code",
   "execution_count": 81,
   "id": "21db45d5-3b3d-4564-a0d3-19795850686b",
   "metadata": {},
   "outputs": [
    {
     "name": "stdout",
     "output_type": "stream",
     "text": [
      "+----------+----------------+\n",
      "|     total|nationality_name|\n",
      "+----------+----------------+\n",
      "|1.765485E7|         England|\n",
      "+----------+----------------+\n",
      "\n"
     ]
    }
   ],
   "source": [
    "spark.sql(\"select SUM(wage_eur) as total,nationality_name from players group by nationality_name order by total desc\").limit(1).show()"
   ]
  },
  {
   "cell_type": "markdown",
   "id": "c06b71f1-74b0-42bc-a820-03fec00c7a60",
   "metadata": {},
   "source": [
    "9. Clubs that spend the most money on their players?"
   ]
  },
  {
   "cell_type": "code",
   "execution_count": 83,
   "id": "90264647-cd11-4a90-85a9-1a3071593c1b",
   "metadata": {},
   "outputs": [
    {
     "name": "stdout",
     "output_type": "stream",
     "text": [
      "+--------------+-------------+\n",
      "|     club_name|sum(wage_eur)|\n",
      "+--------------+-------------+\n",
      "|Real Madrid CF|    4394000.0|\n",
      "+--------------+-------------+\n",
      "\n"
     ]
    }
   ],
   "source": [
    "df.groupBy(\"club_name\").sum(\"wage_eur\").orderBy(desc(sum(\"wage_eur\"))).limit(1).show()"
   ]
  },
  {
   "cell_type": "markdown",
   "id": "9a7c9ad4-0d4a-42e7-a40f-0bf77c61e460",
   "metadata": {},
   "source": [
    "10. Players with salary > 500k / year :"
   ]
  },
  {
   "cell_type": "code",
   "execution_count": 85,
   "id": "e36069b0-88df-46a9-bb57-9d63ffeb2287",
   "metadata": {},
   "outputs": [
    {
     "name": "stdout",
     "output_type": "stream",
     "text": [
      "+-----------------+---------------+\n",
      "|       short_name|(wage_eur * 52)|\n",
      "+-----------------+---------------+\n",
      "|         L. Messi|        1.664E7|\n",
      "|   R. Lewandowski|        1.404E7|\n",
      "|Cristiano Ronaldo|        1.404E7|\n",
      "|        Neymar Jr|        1.404E7|\n",
      "|     K. De Bruyne|         1.82E7|\n",
      "|         J. Oblak|      6760000.0|\n",
      "|        K. Mbappé|        1.196E7|\n",
      "|         M. Neuer|      4472000.0|\n",
      "|    M. ter Stegen|          1.3E7|\n",
      "|          H. Kane|        1.248E7|\n",
      "|         N. Kanté|        1.196E7|\n",
      "|       K. Benzema|         1.82E7|\n",
      "|      T. Courtois|          1.3E7|\n",
      "|           H. Son|        1.144E7|\n",
      "|         Casemiro|        1.612E7|\n",
      "|      V. van Dijk|        1.196E7|\n",
      "|          S. Mané|        1.404E7|\n",
      "|         M. Salah|        1.404E7|\n",
      "|          Ederson|         1.04E7|\n",
      "|       J. Kimmich|      8320000.0|\n",
      "+-----------------+---------------+\n",
      "only showing top 20 rows\n",
      "\n"
     ]
    }
   ],
   "source": [
    "df.select(\"short_name\",col(\"wage_eur\")*52).where((col(\"wage_eur\")*52)>500000).show()"
   ]
  },
  {
   "cell_type": "markdown",
   "id": "339f2b95-904e-427d-9df1-e6c56555d9ab",
   "metadata": {},
   "source": [
    "1. How many are they?"
   ]
  },
  {
   "cell_type": "code",
   "execution_count": 87,
   "id": "c537d24f-7d55-411f-afc7-6a1911b124e0",
   "metadata": {},
   "outputs": [
    {
     "data": {
      "text/plain": [
       "4279"
      ]
     },
     "execution_count": 87,
     "metadata": {},
     "output_type": "execute_result"
    }
   ],
   "source": [
    "df.where((col(\"wage_eur\")*52)>500000).count()"
   ]
  },
  {
   "cell_type": "markdown",
   "id": "6a5d0f1c-5544-4a1c-8912-809353fa44d4",
   "metadata": {},
   "source": [
    "2. What is their average salary"
   ]
  },
  {
   "cell_type": "code",
   "execution_count": 89,
   "id": "126eeeda-d49d-49bb-98af-20622101e4c8",
   "metadata": {},
   "outputs": [
    {
     "name": "stdout",
     "output_type": "stream",
     "text": [
      "+------------+---------------+\n",
      "|  short_name|(wage_eur * 52)|\n",
      "+------------+---------------+\n",
      "|K. De Bruyne|         1.82E7|\n",
      "|  K. Benzema|         1.82E7|\n",
      "+------------+---------------+\n",
      "\n"
     ]
    }
   ],
   "source": [
    "spark.sql(\"select short_name , (wage_eur*52) from players where (wage_eur*52) = (select max(wage_eur*52) from players)\").show()"
   ]
  },
  {
   "cell_type": "code",
   "execution_count": 90,
   "id": "9468a0c0-3480-4c0b-b01d-629bb1411534",
   "metadata": {},
   "outputs": [
    {
     "name": "stdout",
     "output_type": "stream",
     "text": [
      "+------------------+\n",
      "|     avg(wage_eur)|\n",
      "+------------------+\n",
      "|31043.000701098386|\n",
      "+------------------+\n",
      "\n"
     ]
    }
   ],
   "source": [
    "spark.sql(\"select avg(wage_eur) from (select short_name, wage_eur from players where wage_eur*52 >500000)\").show()"
   ]
  },
  {
   "cell_type": "markdown",
   "id": "dcdc6d0c-d5e5-41c2-8103-1221cb28bbae",
   "metadata": {},
   "source": [
    "3. Focus on a country, eg. France and compare the average in this country vs in the world."
   ]
  },
  {
   "cell_type": "code",
   "execution_count": 92,
   "id": "d6c25880-ed6b-40db-a8d7-8c8d4cf6849c",
   "metadata": {},
   "outputs": [
    {
     "name": "stdout",
     "output_type": "stream",
     "text": [
      "+-----------------+----------------+\n",
      "|          average|nationality_name|\n",
      "+-----------------+----------------+\n",
      "|36019.73684210526|          France|\n",
      "+-----------------+----------------+\n",
      "\n"
     ]
    }
   ],
   "source": [
    "spark.sql(\"select avg(wage_eur) as average , nationality_name from (select short_name, wage_eur, nationality_name from players where wage_eur*52 >500000) where nationality_name = 'France' group by nationality_name \").show()"
   ]
  },
  {
   "cell_type": "code",
   "execution_count": 93,
   "id": "7c88b3d1-60bc-4056-b7ba-91e99e56101d",
   "metadata": {},
   "outputs": [
    {
     "name": "stdout",
     "output_type": "stream",
     "text": [
      "+------------------+--------------------+\n",
      "|           average|    nationality_name|\n",
      "+------------------+--------------------+\n",
      "|          115000.0|  Dominican Republic|\n",
      "|           82000.0|               Egypt|\n",
      "|           58000.0|Central African R...|\n",
      "|           54500.0|               Gabon|\n",
      "|52666.666666666664|              Zambia|\n",
      "|           48000.0|          Costa Rica|\n",
      "|           43000.0|            Tanzania|\n",
      "|           42000.0|      Korea Republic|\n",
      "|41454.545454545456|             Algeria|\n",
      "|           40000.0|               Syria|\n",
      "|39604.166666666664|             Belgium|\n",
      "| 39577.77777777778|             Croatia|\n",
      "|           38875.0|             Hungary|\n",
      "|38769.230769230766|             Senegal|\n",
      "|           38700.0|             Ukraine|\n",
      "| 37785.71428571428|            Portugal|\n",
      "|           37500.0|           Venezuela|\n",
      "|           36625.0|            Slovenia|\n",
      "| 36571.42857142857|          Montenegro|\n",
      "| 36571.42857142857|              Guinea|\n",
      "|           36500.0|                Togo|\n",
      "|           36500.0|             Iceland|\n",
      "| 36204.72440944882|             England|\n",
      "|36166.666666666664|              Canada|\n",
      "|35705.882352941175|              Poland|\n",
      "|35307.692307692305|             Jamaica|\n",
      "| 35222.22222222222|               Italy|\n",
      "| 35109.09090909091|             Uruguay|\n",
      "|           35000.0|        Burkina Faso|\n",
      "|           34750.0|             Armenia|\n",
      "|           34360.0|       United States|\n",
      "|           34000.0|            Zimbabwe|\n",
      "|           34000.0|         New Zealand|\n",
      "|           33500.0|         Netherlands|\n",
      "|33294.117647058825|            Slovakia|\n",
      "|           33200.0|Bosnia and Herzeg...|\n",
      "|33142.857142857145|               Spain|\n",
      "| 32977.77777777778|            Scotland|\n",
      "|32833.333333333336|               Wales|\n",
      "|32588.235294117647|      Czech Republic|\n",
      "|           32000.0|              Serbia|\n",
      "|31571.428571428572|             Finland|\n",
      "| 31131.57894736842|       Côte d'Ivoire|\n",
      "| 30796.22641509434|             Germany|\n",
      "|30565.217391304348|            Cameroon|\n",
      "|           30500.0|          Uzbekistan|\n",
      "|          30343.75|             Denmark|\n",
      "|29833.333333333332|    Northern Ireland|\n",
      "| 29538.46153846154|             Albania|\n",
      "|29425.882352941175|              Brazil|\n",
      "|28458.333333333332|               Chile|\n",
      "|28404.761904761905|             Nigeria|\n",
      "|           27812.5|              Russia|\n",
      "| 27629.62962962963|               Japan|\n",
      "|26804.878048780487|              Sweden|\n",
      "| 26121.21212121212|              Norway|\n",
      "|25928.571428571428|            Colombia|\n",
      "|           25800.0|            Paraguay|\n",
      "|25641.509433962263|         Switzerland|\n",
      "|25162.162162162163| Republic of Ireland|\n",
      "|           25000.0|   Equatorial Guinea|\n",
      "|           24840.0|              Greece|\n",
      "| 24836.65338645418|           Argentina|\n",
      "|           24750.0|               Ghana|\n",
      "|24615.384615384617|              Kosovo|\n",
      "|24434.782608695652|             Morocco|\n",
      "|24202.380952380954|              Turkey|\n",
      "| 24142.85714285714|                Mali|\n",
      "|           24000.0|          Montserrat|\n",
      "|           24000.0|             Namibia|\n",
      "| 23906.77966101695|              Mexico|\n",
      "|23833.333333333332|                Peru|\n",
      "|           23500.0|            Congo DR|\n",
      "| 23448.71794871795|             Austria|\n",
      "|           23000.0|                Cuba|\n",
      "|           22875.0|  Cape Verde Islands|\n",
      "|           22000.0|            Honduras|\n",
      "|21583.333333333332|             Romania|\n",
      "|20933.333333333332|             Ecuador|\n",
      "|           20500.0|Saint Kitts and N...|\n",
      "|20428.571428571428|              Israel|\n",
      "|20333.333333333332|          Mozambique|\n",
      "|           20000.0|             Bermuda|\n",
      "|           20000.0|             Belarus|\n",
      "| 19888.88888888889|             Tunisia|\n",
      "|           19250.0|              Gambia|\n",
      "|           19000.0|               Congo|\n",
      "|           19000.0|          Kazakhstan|\n",
      "|18555.555555555555|     North Macedonia|\n",
      "|           18500.0|             Curacao|\n",
      "|           18000.0|                Chad|\n",
      "|           17500.0|       Guinea Bissau|\n",
      "|17272.727272727272|           Australia|\n",
      "|17071.428571428572|            China PR|\n",
      "|           17000.0|            Suriname|\n",
      "|           16375.0|              Angola|\n",
      "|16333.333333333334|               Benin|\n",
      "|           16000.0|             Moldova|\n",
      "|15666.666666666666|        South Africa|\n",
      "|15558.823529411764|        Saudi Arabia|\n",
      "|           15400.0|                Iran|\n",
      "|           15000.0|         Philippines|\n",
      "|           14000.0|               Libya|\n",
      "|13666.666666666666|              Panama|\n",
      "|           13500.0|              Cyprus|\n",
      "|           13500.0|             Georgia|\n",
      "|           13000.0|          Luxembourg|\n",
      "|           13000.0|          Azerbaijan|\n",
      "|           11000.0|          Madagascar|\n",
      "|           11000.0|               Kenya|\n",
      "|           11000.0|             Grenada|\n",
      "|           11000.0|              Uganda|\n",
      "|           10500.0|             Burundi|\n",
      "|           10000.0|             Comoros|\n",
      "|           10000.0|        Sierra Leone|\n",
      "|           10000.0|               Niger|\n",
      "+------------------+--------------------+\n",
      "\n"
     ]
    }
   ],
   "source": [
    "spark.sql(\"select avg(wage_eur) as average , nationality_name from (select short_name, wage_eur, nationality_name from players where wage_eur*52 >500000) where nationality_name != 'France' group by nationality_name order by average desc\").show(200)"
   ]
  },
  {
   "cell_type": "markdown",
   "id": "7c988a92-7009-4597-a27c-4547b84b9f55",
   "metadata": {},
   "source": [
    "# Level 2"
   ]
  },
  {
   "cell_type": "code",
   "execution_count": 95,
   "id": "65014144-0272-4e81-84da-6c5010ea8ed3",
   "metadata": {},
   "outputs": [
    {
     "name": "stdout",
     "output_type": "stream",
     "text": [
      "+-----------------+----------------+\n",
      "|       short_name|player_positions|\n",
      "+-----------------+----------------+\n",
      "|         L. Messi|      RW, ST, CF|\n",
      "|   R. Lewandowski|              ST|\n",
      "|Cristiano Ronaldo|          ST, LW|\n",
      "|        Neymar Jr|         LW, CAM|\n",
      "|     K. De Bruyne|         CM, CAM|\n",
      "|         J. Oblak|              GK|\n",
      "|        K. Mbappé|          ST, LW|\n",
      "|         M. Neuer|              GK|\n",
      "|    M. ter Stegen|              GK|\n",
      "|          H. Kane|              ST|\n",
      "|         N. Kanté|         CDM, CM|\n",
      "|       K. Benzema|          CF, ST|\n",
      "|      T. Courtois|              GK|\n",
      "|           H. Son|      LM, CF, LW|\n",
      "|         Casemiro|             CDM|\n",
      "|      V. van Dijk|              CB|\n",
      "|          S. Mané|              LW|\n",
      "|         M. Salah|              RW|\n",
      "|          Ederson|              GK|\n",
      "|       J. Kimmich|         CDM, RB|\n",
      "+-----------------+----------------+\n",
      "only showing top 20 rows\n",
      "\n"
     ]
    }
   ],
   "source": [
    "spark.sql(\"select short_name,player_positions from players\").show()"
   ]
  },
  {
   "cell_type": "markdown",
   "id": "ae5b54b7-271b-40ac-95e4-9743f262aad6",
   "metadata": {},
   "source": [
    "1. Average salary per role?"
   ]
  },
  {
   "cell_type": "code",
   "execution_count": 97,
   "id": "901c4853-ab21-4883-8ea9-fddd64487ca5",
   "metadata": {},
   "outputs": [
    {
     "name": "stdout",
     "output_type": "stream",
     "text": [
      "+--------+------------------+\n",
      "|position|     avg(wage_eur)|\n",
      "+--------+------------------+\n",
      "|      RM| 9786.714285714286|\n",
      "|     LWB|10471.345029239767|\n",
      "|      ST|10030.520304568528|\n",
      "|      RW|11342.719167904903|\n",
      "|      LM| 8244.866732477789|\n",
      "|      RB| 7709.502551020408|\n",
      "|     CAM|  9654.53356582389|\n",
      "|      LM|  9651.09926715523|\n",
      "|      LB| 8006.548933038999|\n",
      "|      LW| 11027.37819025522|\n",
      "|      GK| 6349.952919020716|\n",
      "|      RB| 8417.152466367714|\n",
      "|     LWB| 9573.831775700935|\n",
      "|      CM| 9909.059474412172|\n",
      "|      RW|11991.919191919193|\n",
      "|     CAM|11264.783001808319|\n",
      "|     CDM| 9110.608800482218|\n",
      "|      CM| 10201.43280632411|\n",
      "|      CB| 8748.600662052362|\n",
      "|      CF|14801.129032258064|\n",
      "+--------+------------------+\n",
      "only showing top 20 rows\n",
      "\n"
     ]
    }
   ],
   "source": [
    "spark.sql(\"select position,avg(wage_eur) from (select EXPLODE(SPLIT(player_positions,',')) as position,wage_eur from players) group by position\").show()"
   ]
  },
  {
   "cell_type": "markdown",
   "id": "e75b9163-7a52-499b-b2f9-ab7ebcc5ff6b",
   "metadata": {},
   "source": [
    "2. Player type distribution (player position)?"
   ]
  },
  {
   "cell_type": "code",
   "execution_count": 99,
   "id": "2cfe2d94-5d8c-4821-8ba9-c476f6fd7c8a",
   "metadata": {},
   "outputs": [
    {
     "name": "stdout",
     "output_type": "stream",
     "text": [
      "+--------+----+\n",
      "|position|  nb|\n",
      "+--------+----+\n",
      "|      RM|1407|\n",
      "|     LWB| 171|\n",
      "|      ST| 790|\n",
      "|      RW| 677|\n",
      "|      LM|1016|\n",
      "|      RB| 786|\n",
      "|     CAM|1151|\n",
      "|      LM|1505|\n",
      "|      LB|1360|\n",
      "|      LW| 435|\n",
      "|      GK|2132|\n",
      "|      RB|1346|\n",
      "|     LWB| 321|\n",
      "|      CM|2173|\n",
      "|      RW| 495|\n",
      "|     CAM|1109|\n",
      "|     CDM|1665|\n",
      "|      CM|2031|\n",
      "|      CB|3339|\n",
      "|      CF| 310|\n",
      "+--------+----+\n",
      "only showing top 20 rows\n",
      "\n"
     ]
    }
   ],
   "source": [
    "spark.sql(\"select position,count(*) as nb from (select EXPLODE(SPLIT(player_positions,',')) as position,wage_eur from players) group by position\").show()"
   ]
  },
  {
   "cell_type": "markdown",
   "id": "f4946e62-7112-45e1-9cec-9d69b00327f3",
   "metadata": {},
   "source": [
    "3. Weight distribution of all players? And weight distribution per role?"
   ]
  },
  {
   "cell_type": "code",
   "execution_count": 101,
   "id": "e3b1fe29-2fd9-4468-b9bc-4afcfa0005a7",
   "metadata": {},
   "outputs": [
    {
     "name": "stdout",
     "output_type": "stream",
     "text": [
      "+---------+----------------+\n",
      "|weight_kg|count(weight_kg)|\n",
      "+---------+----------------+\n",
      "|      101|               2|\n",
      "|       69|             531|\n",
      "|       87|             227|\n",
      "|       73|            1041|\n",
      "|       64|             338|\n",
      "|       59|              42|\n",
      "|       85|             434|\n",
      "|       71|             639|\n",
      "|       98|              14|\n",
      "|       99|               5|\n",
      "|       96|              16|\n",
      "|      100|               5|\n",
      "|       70|            1607|\n",
      "|       61|              98|\n",
      "|       75|            1469|\n",
      "|       78|             968|\n",
      "|       89|             124|\n",
      "|       77|             841|\n",
      "|       68|             791|\n",
      "|       90|             173|\n",
      "+---------+----------------+\n",
      "only showing top 20 rows\n",
      "\n"
     ]
    }
   ],
   "source": [
    "q3 = spark.sql(\"select weight_kg,count(weight_kg) from players group by weight_kg\").show()"
   ]
  },
  {
   "cell_type": "code",
   "execution_count": 102,
   "id": "fd98f02c-22f1-4ead-8dc7-68bae12736a3",
   "metadata": {},
   "outputs": [
    {
     "name": "stdout",
     "output_type": "stream",
     "text": [
      "+--------+---------+---+\n",
      "|position|weight_kg| nb|\n",
      "+--------+---------+---+\n",
      "|     CAM|       69| 39|\n",
      "|     CAM|       84|  8|\n",
      "|     CAM|       77| 39|\n",
      "|     CAM|       68| 72|\n",
      "|     CAM|       93|  1|\n",
      "|     CAM|       56|  3|\n",
      "|     CAM|       63| 27|\n",
      "|     CAM|       91|  2|\n",
      "|     CAM|       88|  5|\n",
      "|     CAM|       89|  2|\n",
      "|     CAM|       61| 12|\n",
      "|     CAM|       82| 22|\n",
      "|     CAM|       58|  8|\n",
      "|     CAM|       83|  9|\n",
      "|     CAM|       81| 16|\n",
      "|     CAM|       79| 21|\n",
      "|     CAM|       73| 70|\n",
      "|     CAM|       70|108|\n",
      "|     CAM|       75| 77|\n",
      "|     CAM|       62| 12|\n",
      "|     CAM|       78| 40|\n",
      "|     CAM|       76| 60|\n",
      "|     CAM|       64| 36|\n",
      "|     CAM|       71| 57|\n",
      "|     CAM|       65| 49|\n",
      "|     CAM|       80| 40|\n",
      "|     CAM|       60| 19|\n",
      "|     CAM|       67| 50|\n",
      "|     CAM|       66| 39|\n",
      "|     CAM|       72| 89|\n",
      "+--------+---------+---+\n",
      "only showing top 30 rows\n",
      "\n"
     ]
    }
   ],
   "source": [
    "spark.sql(\"select position,weight_kg,count(*) as nb from (select EXPLODE(SPLIT(player_positions,',')) as position,weight_kg from players) group by position,weight_kg order by position\").show(30)"
   ]
  },
  {
   "cell_type": "markdown",
   "id": "8b1a4cd7-d02a-45e4-a282-804d67391bac",
   "metadata": {},
   "source": [
    "4. Salary distribution of all players? And salary distribution per role?"
   ]
  },
  {
   "cell_type": "code",
   "execution_count": 104,
   "id": "b37a0061-9259-471f-9415-32c9354782d7",
   "metadata": {},
   "outputs": [
    {
     "name": "stdout",
     "output_type": "stream",
     "text": [
      "+--------+---------------+\n",
      "|wage_eur|count(wage_eur)|\n",
      "+--------+---------------+\n",
      "| 90000.0|              9|\n",
      "|165000.0|              3|\n",
      "|100000.0|             14|\n",
      "|   650.0|            185|\n",
      "|260000.0|              2|\n",
      "|175000.0|              4|\n",
      "| 21000.0|            103|\n",
      "| 35000.0|             49|\n",
      "|110000.0|             10|\n",
      "| 83000.0|              9|\n",
      "| 65000.0|              8|\n",
      "| 25000.0|             81|\n",
      "| 11000.0|            294|\n",
      "|130000.0|             11|\n",
      "| 14000.0|            210|\n",
      "|   800.0|            196|\n",
      "|115000.0|             10|\n",
      "|155000.0|              4|\n",
      "| 53000.0|             15|\n",
      "| 95000.0|             21|\n",
      "+--------+---------------+\n",
      "only showing top 20 rows\n",
      "\n"
     ]
    }
   ],
   "source": [
    "spark.sql(\"select wage_eur,count(wage_eur) from players group by wage_eur\").show()"
   ]
  },
  {
   "cell_type": "code",
   "execution_count": 105,
   "id": "ac021070-2abf-49bc-bdad-3bab2e93d07d",
   "metadata": {},
   "outputs": [
    {
     "name": "stdout",
     "output_type": "stream",
     "text": [
      "+--------+--------+---+\n",
      "|position|wage_eur| nb|\n",
      "+--------+--------+---+\n",
      "|     CAM| 34000.0|  4|\n",
      "|     CAM| 52000.0|  2|\n",
      "|     CAM| 66000.0|  1|\n",
      "|     CAM| 18000.0|  9|\n",
      "|     CAM| 39000.0|  1|\n",
      "|     CAM| 23000.0|  7|\n",
      "|     CAM|120000.0|  1|\n",
      "|     CAM|  3000.0| 87|\n",
      "|     CAM| 19000.0| 14|\n",
      "|     CAM|   700.0|  6|\n",
      "|     CAM|  7000.0| 37|\n",
      "|     CAM| 86000.0|  1|\n",
      "|     CAM|   850.0| 15|\n",
      "|     CAM| 20000.0|  7|\n",
      "|     CAM|   500.0| 77|\n",
      "|     CAM| 74000.0|  2|\n",
      "|     CAM|155000.0|  1|\n",
      "|     CAM| 11000.0| 31|\n",
      "|     CAM|350000.0|  1|\n",
      "|     CAM| 65000.0|  2|\n",
      "|     CAM| 15000.0| 16|\n",
      "|     CAM|100000.0|  1|\n",
      "|     CAM|  1000.0|106|\n",
      "|     CAM|160000.0|  1|\n",
      "|     CAM|  9000.0| 33|\n",
      "|     CAM|180000.0|  1|\n",
      "|     CAM| 12000.0| 19|\n",
      "|     CAM| 55000.0|  1|\n",
      "|     CAM|   600.0|  8|\n",
      "|     CAM| 48000.0|  2|\n",
      "+--------+--------+---+\n",
      "only showing top 30 rows\n",
      "\n"
     ]
    }
   ],
   "source": [
    "spark.sql(\"select position,wage_eur,count(*) as nb from (select EXPLODE(SPLIT(player_positions,',')) as position,wage_eur from players) group by position,wage_eur order by position\").show(30)"
   ]
  },
  {
   "cell_type": "markdown",
   "id": "3cec4276-3dee-4ed0-8963-42c2b134ece5",
   "metadata": {},
   "source": [
    "5. Who are the best players overall?"
   ]
  },
  {
   "cell_type": "code",
   "execution_count": 107,
   "id": "32585dac-37de-41e2-b75d-f8c0da2c9e8e",
   "metadata": {},
   "outputs": [
    {
     "name": "stdout",
     "output_type": "stream",
     "text": [
      "+----------+-------+\n",
      "|short_name|overall|\n",
      "+----------+-------+\n",
      "|  L. Messi|     93|\n",
      "+----------+-------+\n",
      "\n"
     ]
    }
   ],
   "source": [
    "spark.sql(\"select short_name,overall from players  where overall =  (select MAX(overall) as max from players)\").show()"
   ]
  },
  {
   "cell_type": "markdown",
   "id": "84c09dbc-d48b-4050-b482-d2e07bc0fe02",
   "metadata": {},
   "source": [
    "6. Which country has, considering only the top 100 players per country with at least 10 players:"
   ]
  },
  {
   "cell_type": "code",
   "execution_count": 222,
   "id": "367df7d2-4f26-49dc-9774-2b227b1e88d2",
   "metadata": {},
   "outputs": [],
   "source": [
    "q6 = spark.sql(\"select players.*,COUNT(nationality_name) OVER (PARTITION BY nationality_name) as total,ROW_NUMBER() OVER(PARTITION BY nationality_name  order by overall desc) as nb  ,ROW_NUMBER() OVER  (PARTITION BY nationality_name order by overall desc) as rang from players\")"
   ]
  },
  {
   "cell_type": "code",
   "execution_count": 224,
   "id": "d261bf2e-ffcf-414b-9534-69b7d28eb48f",
   "metadata": {},
   "outputs": [
    {
     "name": "stdout",
     "output_type": "stream",
     "text": [
      "+----+-----+-------------------+------------------+\n",
      "|rang|total|   nationality_name|        short_name|\n",
      "+----+-----+-------------------+------------------+\n",
      "|   1|    1|        Afghanistan|        O. Haydary|\n",
      "|   1|   46|            Albania|      T. Strakosha|\n",
      "|   2|   46|            Albania|       B. Djimsiti|\n",
      "|   3|   46|            Albania|          E. Hysaj|\n",
      "|   4|   46|            Albania|           K. Bare|\n",
      "|   5|   46|            Albania|        E. Berisha|\n",
      "|   6|   46|            Albania|       M. Kumbulla|\n",
      "|   7|   46|            Albania|          M. Uzuni|\n",
      "|   8|   46|            Albania|         I. Balliu|\n",
      "|   9|   46|            Albania|        A. Ismajli|\n",
      "|  10|   46|            Albania|          T. Xhaka|\n",
      "|  11|   46|            Albania|          R. Manaj|\n",
      "|  12|   46|            Albania|         M. Mavraj|\n",
      "|  13|   46|            Albania|        A. Abrashi|\n",
      "|  14|   46|            Albania|          A. Broja|\n",
      "|  15|   46|            Albania|        E. Lenjani|\n",
      "|  16|   46|            Albania|         F. Veseli|\n",
      "|  17|   46|            Albania|     S. Çikalleshi|\n",
      "|  18|   46|            Albania|         A. Sadiku|\n",
      "|  19|   46|            Albania|        K. Dermaku|\n",
      "|  20|   46|            Albania|           Q. Laçi|\n",
      "|  21|   46|            Albania|        A. Mucolli|\n",
      "|  22|   46|            Albania|        F. Kamberi|\n",
      "|  23|   46|            Albania|        K. Gjasula|\n",
      "|  24|   46|            Albania|         G. Vrioni|\n",
      "|  25|   46|            Albania|          M. Mitaj|\n",
      "|  26|   46|            Albania|         E. Sahiti|\n",
      "|  27|   46|            Albania|          E. Mihaj|\n",
      "|  28|   46|            Albania|           R. Fili|\n",
      "|  29|   46|            Albania|           V. Rama|\n",
      "|  30|   46|            Albania|           E. Papa|\n",
      "|  31|   46|            Albania|           E. Muçi|\n",
      "|  32|   46|            Albania|        J. Çelhaka|\n",
      "|  33|   46|            Albania|         E. Binaku|\n",
      "|  34|   46|            Albania|          A. Dobra|\n",
      "|  35|   46|            Albania|        A. Mehmeti|\n",
      "|  36|   46|            Albania|     S. Rumbullaku|\n",
      "|  37|   46|            Albania|          I. Batha|\n",
      "|  38|   46|            Albania|        A. Mehmeti|\n",
      "|  39|   46|            Albania|         E. Çekiçi|\n",
      "|  40|   46|            Albania|        A. Mucolli|\n",
      "|  41|   46|            Albania|         A. Bilali|\n",
      "|  42|   46|            Albania|           M. Cuni|\n",
      "|  43|   46|            Albania|        L. Shabani|\n",
      "|  44|   46|            Albania|         L. Hetemi|\n",
      "|  45|   46|            Albania|          A. Ademi|\n",
      "|  46|   46|            Albania|          A. Abibi|\n",
      "|   1|   51|            Algeria|         R. Mahrez|\n",
      "|   2|   51|            Algeria|         A. Delort|\n",
      "|   3|   51|            Algeria|          A. Mandi|\n",
      "|   4|   51|            Algeria|       I. Bennacer|\n",
      "|   5|   51|            Algeria|     R. Bensebaini|\n",
      "|   6|   51|            Algeria|        A. Oukidja|\n",
      "|   7|   51|            Algeria|        R. Ghezzal|\n",
      "|   8|   51|            Algeria|        F. Ghoulam|\n",
      "|   9|   51|            Algeria|       S. Benrahma|\n",
      "|  10|   51|            Algeria|         Z. Ferhat|\n",
      "|  11|   51|            Algeria|        F. Boulaya|\n",
      "|  12|   51|            Algeria|        I. Slimani|\n",
      "|  13|   51|            Algeria|           Y. Atal|\n",
      "|  14|   51|            Algeria|       S. Feghouli|\n",
      "|  15|   51|            Algeria|       H. Belkebla|\n",
      "|  16|   51|            Algeria|       H. Boudaoui|\n",
      "|  17|   51|            Algeria|      R. Boudebouz|\n",
      "|  18|   51|            Algeria|       I. Belfodil|\n",
      "|  19|   51|            Algeria|          A. Ounas|\n",
      "|  20|   51|            Algeria|         A. Sâyoud|\n",
      "|  21|   51|            Algeria|          M. Fares|\n",
      "|  22|   51|            Algeria|        R. M'Bolhi|\n",
      "|  23|   51|            Algeria|        H. Soudani|\n",
      "|  24|   51|            Algeria|         Y. Benzia|\n",
      "|  25|   51|            Algeria|         M. Zeghba|\n",
      "|  26|   51|            Algeria|       S. Bendebka|\n",
      "|  27|   51|            Algeria|          J. Lopez|\n",
      "|  28|   51|            Algeria|       O. Darfalou|\n",
      "|  29|   51|            Algeria|        M. Zerkane|\n",
      "|  30|   51|            Algeria|         F. Chafaï|\n",
      "|  31|   51|            Algeria|        A. Zorgane|\n",
      "|  32|   51|            Algeria|         V. Lekhal|\n",
      "|  33|   51|            Algeria|          A. Touba|\n",
      "|  34|   51|            Algeria|        M. Asselah|\n",
      "|  35|   51|            Algeria|      F. El Melali|\n",
      "|  36|   51|            Algeria|       M. Halaïmia|\n",
      "|  37|   51|            Algeria|       R. Zerrouki|\n",
      "|  38|   51|            Algeria|         N. Khacef|\n",
      "|  39|   51|            Algeria|         H. Ghacha|\n",
      "|  40|   51|            Algeria|          A. Kadri|\n",
      "|  41|   51|            Algeria|       R. Bouhenna|\n",
      "|  42|   51|            Algeria|    M. Spano Rahou|\n",
      "|  43|   51|            Algeria|          I. Saadi|\n",
      "|  44|   51|            Algeria|        A. Medioub|\n",
      "|  45|   51|            Algeria|        M. Jeannin|\n",
      "|  46|   51|            Algeria|          K. Aribi|\n",
      "|  47|   51|            Algeria|     A. Abdellaoui|\n",
      "|  48|   51|            Algeria|     S. Belkorchia|\n",
      "|  49|   51|            Algeria|      T. Boulhendi|\n",
      "|  50|   51|            Algeria|          S. Faraj|\n",
      "|  51|   51|            Algeria|        F. Mehenni|\n",
      "|   1|    1|            Andorra|        Marc Vales|\n",
      "|   1|   17|             Angola|      Clinton Mata|\n",
      "|   2|   17|             Angola|       Fábio Abreu|\n",
      "|   3|   17|             Angola|    Wilson Eduardo|\n",
      "|   4|   17|             Angola|           Ramalho|\n",
      "|   5|   17|             Angola|             Fredy|\n",
      "|   6|   17|             Angola|           J. Bela|\n",
      "|   7|   17|             Angola|        A. Lucoqui|\n",
      "|   8|   17|             Angola|     Núrio Fortuna|\n",
      "|   9|   17|             Angola|      Bruno Gaspar|\n",
      "|  10|   17|             Angola|         A. Pululu|\n",
      "|  11|   17|             Angola|             Buatu|\n",
      "|  12|   17|             Angola|            Milson|\n",
      "|  13|   17|             Angola|     Elliot Simões|\n",
      "|  14|   17|             Angola|            Capita|\n",
      "|  15|   17|             Angola|          S. Pungi|\n",
      "|  16|   17|             Angola|        Buni Jorge|\n",
      "|  17|   17|             Angola|     Pedro Lubamba|\n",
      "|   1|    3|Antigua and Barbuda|          M. Romeo|\n",
      "|   2|    3|Antigua and Barbuda|   L. James-Wildin|\n",
      "|   3|    3|Antigua and Barbuda|  Z. Francis-Angol|\n",
      "|   1|  960|          Argentina|          L. Messi|\n",
      "|   2|  960|          Argentina|         S. Agüero|\n",
      "|   3|  960|          Argentina|       Á. Di María|\n",
      "|   4|  960|          Argentina|         P. Dybala|\n",
      "|   5|  960|          Argentina|          A. Gómez|\n",
      "|   6|  960|          Argentina|       L. Martínez|\n",
      "|   7|  960|          Argentina|       E. Martínez|\n",
      "|   8|  960|          Argentina|          M. Acuña|\n",
      "|   9|  960|          Argentina|         M. Icardi|\n",
      "|  10|  960|          Argentina|        L. Ocampos|\n",
      "|  11|  960|          Argentina|         Á. Correa|\n",
      "|  12|  960|          Argentina|         É. Banega|\n",
      "|  13|  960|          Argentina|     N. Tagliafico|\n",
      "|  14|  960|          Argentina|        R. De Paul|\n",
      "|  15|  960|          Argentina|         C. Romero|\n",
      "|  16|  960|          Argentina|        G. Higuaín|\n",
      "|  17|  960|          Argentina|       N. Otamendi|\n",
      "|  18|  960|          Argentina|      A. Marchesín|\n",
      "|  19|  960|          Argentina|        L. Paredes|\n",
      "|  20|  960|          Argentina|          J. Musso|\n",
      "|  21|  960|          Argentina|         J. Correa|\n",
      "|  22|  960|          Argentina|       G. Lo Celso|\n",
      "|  23|  960|          Argentina|         E. Salvio|\n",
      "|  24|  960|          Argentina|        R. Pereyra|\n",
      "|  25|  960|          Argentina|          E. Pérez|\n",
      "|  26|  960|          Argentina|        E. Andrada|\n",
      "|  27|  960|          Argentina|         F. Armani|\n",
      "|  28|  960|          Argentina|        W. Benítez|\n",
      "|  29|  960|          Argentina|          G. Rulli|\n",
      "|  30|  960|          Argentina|         N. Guzmán|\n",
      "|  31|  960|          Argentina|         M. Suárez|\n",
      "|  32|  960|          Argentina|      L. Rodríguez|\n",
      "|  33|  960|          Argentina|        E. Buendía|\n",
      "|  34|  960|          Argentina|          E. Ávila|\n",
      "|  35|  960|          Argentina|         M. Senesi|\n",
      "|  36|  960|          Argentina|       L. Martínez|\n",
      "|  37|  960|          Argentina|         E. Lamela|\n",
      "|  38|  960|          Argentina|        C. Ansaldi|\n",
      "|  39|  960|          Argentina|        J. Pastore|\n",
      "|  40|  960|          Argentina|     C. Izquierdoz|\n",
      "|  41|  960|          Argentina|         L. Alario|\n",
      "|  42|  960|          Argentina|          C. Pavón|\n",
      "|  43|  960|          Argentina|      G. Rodríguez|\n",
      "|  44|  960|          Argentina|        G. Montiel|\n",
      "|  45|  960|          Argentina|         L. Biglia|\n",
      "|  46|  960|          Argentina|         D. Valeri|\n",
      "|  47|  960|          Argentina|         P. Piatti|\n",
      "|  48|  960|          Argentina|        M. Lanzini|\n",
      "|  49|  960|          Argentina|         S. Blanco|\n",
      "|  50|  960|          Argentina|       G. Pezzella|\n",
      "|  51|  960|          Argentina|      P. Gazzaniga|\n",
      "|  52|  960|          Argentina|    M. Kranevitter|\n",
      "|  53|  960|          Argentina|        I. Marcone|\n",
      "|  54|  960|          Argentina|          M. Casco|\n",
      "|  55|  960|          Argentina|       F. Angileri|\n",
      "|  56|  960|          Argentina|       J. Palomino|\n",
      "|  57|  960|          Argentina|      G. Escalante|\n",
      "|  58|  960|          Argentina|        J. Ledesma|\n",
      "|  59|  960|          Argentina|        J. Dinenno|\n",
      "|  60|  960|          Argentina|          A. Rossi|\n",
      "|  61|  960|          Argentina|         B. Romero|\n",
      "|  62|  960|          Argentina|       E. Palacios|\n",
      "|  63|  960|          Argentina|        E. Reynoso|\n",
      "|  64|  960|          Argentina|         F. Bustos|\n",
      "|  65|  960|          Argentina|       N. González|\n",
      "|  66|  960|          Argentina|           J. Sosa|\n",
      "|  67|  960|          Argentina|         J. Pinola|\n",
      "|  68|  960|          Argentina|       R. Sambueza|\n",
      "|  69|  960|          Argentina|     D. Buonanotte|\n",
      "|  70|  960|          Argentina|        E. Vecchio|\n",
      "|  71|  960|          Argentina|            G. Bou|\n",
      "|  72|  960|          Argentina|       S. Palacios|\n",
      "|  73|  960|          Argentina|         S. Romero|\n",
      "|  74|  960|          Argentina|        L. Miranda|\n",
      "|  75|  960|          Argentina|          L. López|\n",
      "|  76|  960|          Argentina|          J. Furch|\n",
      "|  77|  960|          Argentina|      J. Buffarini|\n",
      "|  78|  960|          Argentina|         L. Romero|\n",
      "|  79|  960|          Argentina|      L. Zelarayán|\n",
      "|  80|  960|          Argentina|       G. Martínez|\n",
      "|  81|  960|          Argentina|L. Martínez Quarta|\n",
      "+----+-----+-------------------+------------------+\n",
      "only showing top 200 rows\n",
      "\n"
     ]
    }
   ],
   "source": [
    "q6.select(\"rang\",\"total\",\"nationality_name\",\"short_name\").show(200)"
   ]
  },
  {
   "cell_type": "code",
   "execution_count": null,
   "id": "b4fbb780-ad94-494e-8751-f779cb55de98",
   "metadata": {},
   "outputs": [],
   "source": []
  },
  {
   "cell_type": "code",
   "execution_count": 238,
   "id": "2f35eefd-7cb8-4a2a-a905-fa75da15b4bd",
   "metadata": {},
   "outputs": [],
   "source": [
    "q62 = q6.select(\"*\").where((col(\"total\") >= 10) & ((col(\"rang\") <= 100))).orderBy(desc(col(\"nationality_name\")))\n",
    "q64 = q6.select(\"*\").where((col(\"total\") >= 10) & ((col(\"rang\") <= 50))).orderBy(desc(col(\"nationality_name\")))"
   ]
  },
  {
   "cell_type": "code",
   "execution_count": 234,
   "id": "7a901a8a-1504-4915-9b90-39e0c0d8f6e9",
   "metadata": {},
   "outputs": [
    {
     "name": "stdout",
     "output_type": "stream",
     "text": [
      "+----------------+--------+----+-----+\n",
      "|nationality_name|wage_eur|rang|total|\n",
      "+----------------+--------+----+-----+\n",
      "|        Zimbabwe| 59000.0|   1|   13|\n",
      "|        Zimbabwe| 49000.0|   2|   13|\n",
      "|        Zimbabwe|  1000.0|   3|   13|\n",
      "|        Zimbabwe| 16000.0|   4|   13|\n",
      "|        Zimbabwe| 12000.0|   5|   13|\n",
      "|        Zimbabwe|  4000.0|   6|   13|\n",
      "|        Zimbabwe|  2000.0|   7|   13|\n",
      "|        Zimbabwe|  6000.0|   8|   13|\n",
      "|        Zimbabwe|   500.0|   9|   13|\n",
      "|        Zimbabwe|  3000.0|  10|   13|\n",
      "|        Zimbabwe|  3000.0|  11|   13|\n",
      "|        Zimbabwe|  4000.0|  12|   13|\n",
      "|        Zimbabwe|   500.0|  13|   13|\n",
      "|           Wales|170000.0|   1|  137|\n",
      "|           Wales|  5000.0|  21|  137|\n",
      "|           Wales| 81000.0|   2|  137|\n",
      "|           Wales| 85000.0|   3|  137|\n",
      "|           Wales| 62000.0|   4|  137|\n",
      "|           Wales| 33000.0|   5|  137|\n",
      "|           Wales| 42000.0|   6|  137|\n",
      "+----------------+--------+----+-----+\n",
      "only showing top 20 rows\n",
      "\n"
     ]
    }
   ],
   "source": [
    "q62.select(\"nationality_name\",\"wage_eur\",\"rang\",\"total\").show()"
   ]
  },
  {
   "cell_type": "markdown",
   "id": "0b5f1328-b837-4ec9-a86e-8dad7964f0bc",
   "metadata": {},
   "source": [
    "1. The best average wages"
   ]
  },
  {
   "cell_type": "code",
   "execution_count": 228,
   "id": "d5ffd57d-716f-4431-9004-df7fae567146",
   "metadata": {},
   "outputs": [
    {
     "name": "stdout",
     "output_type": "stream",
     "text": [
      "+----------------+-------------+\n",
      "|nationality_name|avg(wage_eur)|\n",
      "+----------------+-------------+\n",
      "|         England|      73090.0|\n",
      "+----------------+-------------+\n",
      "\n"
     ]
    }
   ],
   "source": [
    "q62.groupBy(\"nationality_name\").agg(avg(\"wage_eur\")).orderBy(desc(avg(\"wage_eur\"))).limit(1).show()"
   ]
  },
  {
   "cell_type": "markdown",
   "id": "f9a7c633-fc68-40a2-9a23-5bc87434861f",
   "metadata": {},
   "source": [
    "2. The best average values"
   ]
  },
  {
   "cell_type": "code",
   "execution_count": 230,
   "id": "302fb9ef-5c57-44c6-887c-48e9eb56b738",
   "metadata": {},
   "outputs": [
    {
     "name": "stdout",
     "output_type": "stream",
     "text": [
      "+----------------+--------------+\n",
      "|nationality_name|avg(value_eur)|\n",
      "+----------------+--------------+\n",
      "|           Spain|       2.882E7|\n",
      "+----------------+--------------+\n",
      "\n"
     ]
    }
   ],
   "source": [
    "q62.groupBy(\"nationality_name\").agg(avg(\"value_eur\")).orderBy(desc(avg(\"value_eur\"))).limit(1).show()"
   ]
  },
  {
   "cell_type": "markdown",
   "id": "bd638a13-49ce-4720-8bf8-bfd51882e3af",
   "metadata": {},
   "source": [
    "3. The best average scores"
   ]
  },
  {
   "cell_type": "code",
   "execution_count": 232,
   "id": "8677be0b-4e99-47a7-bc11-394a06975fa0",
   "metadata": {},
   "outputs": [
    {
     "name": "stdout",
     "output_type": "stream",
     "text": [
      "+----------------+------------+\n",
      "|nationality_name|avg(overall)|\n",
      "+----------------+------------+\n",
      "|           Spain|       81.49|\n",
      "+----------------+------------+\n",
      "\n"
     ]
    }
   ],
   "source": [
    "q62.groupBy(\"nationality_name\").agg(avg(\"overall\")).orderBy(desc(avg(\"overall\"))).limit(1).show()"
   ]
  },
  {
   "cell_type": "markdown",
   "id": "68a8ecb4-565b-4d9c-a685-4a262779c225",
   "metadata": {},
   "source": [
    "4. The best average potential (among top 50 players)"
   ]
  },
  {
   "cell_type": "code",
   "execution_count": 242,
   "id": "2a7893c6-9313-4220-992c-467a689ac536",
   "metadata": {},
   "outputs": [
    {
     "name": "stdout",
     "output_type": "stream",
     "text": [
      "+----------------+--------------+\n",
      "|nationality_name|avg(potential)|\n",
      "+----------------+--------------+\n",
      "|           Spain|         84.48|\n",
      "+----------------+--------------+\n",
      "\n"
     ]
    }
   ],
   "source": [
    "q64.groupBy(\"nationality_name\").agg(avg(\"potential\")).orderBy(desc(avg(\"potential\"))).limit(1).show()"
   ]
  },
  {
   "cell_type": "code",
   "execution_count": null,
   "id": "dffb9b0b-e032-4071-ad04-1efe5cefaabb",
   "metadata": {},
   "outputs": [],
   "source": []
  }
 ],
 "metadata": {
  "kernelspec": {
   "display_name": "Python 3 (ipykernel)",
   "language": "python",
   "name": "python3"
  },
  "language_info": {
   "codemirror_mode": {
    "name": "ipython",
    "version": 3
   },
   "file_extension": ".py",
   "mimetype": "text/x-python",
   "name": "python",
   "nbconvert_exporter": "python",
   "pygments_lexer": "ipython3",
   "version": "3.11.5"
  }
 },
 "nbformat": 4,
 "nbformat_minor": 5
}
